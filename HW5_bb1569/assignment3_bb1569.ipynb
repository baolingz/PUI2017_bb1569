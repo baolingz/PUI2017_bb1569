{
 "cells": [
  {
   "cell_type": "markdown",
   "metadata": {
    "toc": "true"
   },
   "source": [
    "# Table of Contents\n",
    " <p><div class=\"lev1 toc-item\"><a href=\"#DATA:\" data-toc-modified-id=\"DATA:-1\"><span class=\"toc-item-num\">1&nbsp;&nbsp;</span>DATA:</a></div><div class=\"lev1 toc-item\"><a href=\"#exploration\" data-toc-modified-id=\"exploration-2\"><span class=\"toc-item-num\">2&nbsp;&nbsp;</span>exploration</a></div><div class=\"lev2 toc-item\"><a href=\"#plot-mass-shooting-vs-gdp-in-absolute-numbers,-and-per-person.-Show-the-errorbars-(y-errors)\" data-toc-modified-id=\"plot-mass-shooting-vs-gdp-in-absolute-numbers,-and-per-person.-Show-the-errorbars-(y-errors)-21\"><span class=\"toc-item-num\">2.1&nbsp;&nbsp;</span>plot mass shooting vs gdp in absolute numbers, and per person. Show the errorbars (y errors)</a></div><div class=\"lev2 toc-item\"><a href=\"#plot-the-average-number-of-civilian-fire-arms-per-person\" data-toc-modified-id=\"plot-the-average-number-of-civilian-fire-arms-per-person-22\"><span class=\"toc-item-num\">2.2&nbsp;&nbsp;</span>plot the average number of civilian fire arms per person</a></div><div class=\"lev2 toc-item\"><a href=\"#plot-the-average-number-of-homicide-by-fire-arms-per-person\" data-toc-modified-id=\"plot-the-average-number-of-homicide-by-fire-arms-per-person-23\"><span class=\"toc-item-num\">2.3&nbsp;&nbsp;</span>plot the average number of homicide by fire arms per person</a></div><div class=\"lev2 toc-item\"><a href=\"#plot-the-number-of--homicides-by-fire-arm-against-the-number-of-civilian-firearms.-plot-the--US-in-a-different-color\" data-toc-modified-id=\"plot-the-number-of--homicides-by-fire-arm-against-the-number-of-civilian-firearms.-plot-the--US-in-a-different-color-24\"><span class=\"toc-item-num\">2.4&nbsp;&nbsp;</span>plot the number of  homicides by fire arm against the number of civilian firearms. plot the  US in a different color</a></div><div class=\"lev2 toc-item\"><a href=\"#plot-the-number-of--mass-shootings-against-the-number-of-civilian-firearms.-plot-the--US-in-a-different-color\" data-toc-modified-id=\"plot-the-number-of--mass-shootings-against-the-number-of-civilian-firearms.-plot-the--US-in-a-different-color-25\"><span class=\"toc-item-num\">2.5&nbsp;&nbsp;</span>plot the number of  mass shootings against the number of civilian firearms. plot the  US in a different color</a></div><div class=\"lev1 toc-item\"><a href=\"#Modeling\" data-toc-modified-id=\"Modeling-3\"><span class=\"toc-item-num\">3&nbsp;&nbsp;</span>Modeling</a></div><div class=\"lev2 toc-item\"><a href=\"#fit-a-line-to-the-Number-of-mass-shootings--per-person-as-a-function-of-Average-total-all-civilian-firearms-per-person.\" data-toc-modified-id=\"fit-a-line-to-the-Number-of-mass-shootings--per-person-as-a-function-of-Average-total-all-civilian-firearms-per-person.-31\"><span class=\"toc-item-num\">3.1&nbsp;&nbsp;</span>fit a line to the Number of mass shootings  per person as a function of Average total all civilian firearms per person.</a></div><div class=\"lev2 toc-item\"><a href=\"#Extra-credit:-calculate-the-confidence-interval-by-hand-and-also-plot-them\" data-toc-modified-id=\"Extra-credit:-calculate-the-confidence-interval-by-hand-and-also-plot-them-32\"><span class=\"toc-item-num\">3.2&nbsp;&nbsp;</span>Extra credit: calculate the confidence interval by hand and also plot them</a></div><div class=\"lev2 toc-item\"><a href=\"#Use-the-stsatsmodels.gaphics-package-to-plot-the-influence-plot.\" data-toc-modified-id=\"Use-the-stsatsmodels.gaphics-package-to-plot-the-influence-plot.-33\"><span class=\"toc-item-num\">3.3&nbsp;&nbsp;</span>Use the stsatsmodels.gaphics package to plot the influence plot.</a></div><div class=\"lev2 toc-item\"><a href=\"#Extra-credit:-calculate-from-scratch-the-stanrdardized-residuals-and-the-H-leverage-for-the-WLS-model-and-discuss-if-there-are-any-differences\" data-toc-modified-id=\"Extra-credit:-calculate-from-scratch-the-stanrdardized-residuals-and-the-H-leverage-for-the-WLS-model-and-discuss-if-there-are-any-differences-34\"><span class=\"toc-item-num\">3.4&nbsp;&nbsp;</span>Extra credit: calculate from scratch the stanrdardized residuals and the H leverage for the WLS model and discuss if there are any differences</a></div><div class=\"lev2 toc-item\"><a href=\"#Discuss-your-findings\" data-toc-modified-id=\"Discuss-your-findings-35\"><span class=\"toc-item-num\">3.5&nbsp;&nbsp;</span>Discuss your findings</a></div>"
   ]
  },
  {
   "cell_type": "markdown",
   "metadata": {},
   "source": [
    "**Regression exercise**\n",
    "\n",
    "**written by Federica B Bianco CUSP 2017 -- Modified by Bianca Brusco**\n",
    "\n",
    "**for PUI lecture on models and linear regression**"
   ]
  },
  {
   "cell_type": "markdown",
   "metadata": {},
   "source": [
    "*investigate linear relationships between fire arm possession, homicides by fire arms, and mass shootings for different countries, considering also the country GDP*"
   ]
  },
  {
   "cell_type": "markdown",
   "metadata": {},
   "source": [
    "# DATA: \n",
    "\n",
    "The Guardian firearms murders and ownership data. The relevant sheet is uploaded in the github repository as a csv file. Download it from there. Note: this dataset is from 2012.\n",
    "\n",
    "**Extra credit**: download directly from google docs with a google API\n",
    "\n",
    "https://docs.google.com/spreadsheets/d/1chqUZHuY6cXYrRYkuE0uwXisGaYvr7durZHJhpLGycs/edit#gid=0\n",
    "\n",
    "Number of mass shootings: find the link here https://datawrapper.dwcdn.net/pvLFI/4/\n",
    "\n",
    "The world population by country find the download link here :\n",
    "https://data.worldbank.org/indicator/SP.POP.TOTL\n",
    "\n",
    "Remember that all read or downloads have to me reproducible.\n",
    "\n",
    "Merge all datasets. After throwing away the irrelevant data it should look something like this (I renamed the GDP and the population as gdp\" and \"pop\")\n",
    "\n",
    "Throughout, when I ask you to include errors in plots or models, use Poisson statistics: the error is the square root of the number you are considering (e.g. this country has N fire arms +/- square root of N, or this country has Np [= N/population +/- (square root of N) / population] fire arms per person)."
   ]
  },
  {
   "cell_type": "code",
   "execution_count": 9,
   "metadata": {},
   "outputs": [
    {
     "name": "stdout",
     "output_type": "stream",
     "text": [
      "Populating the interactive namespace from numpy and matplotlib\n"
     ]
    },
    {
     "name": "stderr",
     "output_type": "stream",
     "text": [
      "/Users/biancabrusco/anaconda/lib/python3.6/site-packages/IPython/core/magics/pylab.py:161: UserWarning: pylab import has clobbered these variables: ['scatter']\n",
      "`%matplotlib` prevents importing * from pylab and numpy\n",
      "  \"\\n`%matplotlib` prevents importing * from pylab and numpy\"\n"
     ]
    }
   ],
   "source": [
    "import numpy as np\n",
    "import pylab as pl\n",
    "import pandas as pd\n",
    "import scipy.stats as st\n",
    "%pylab inline"
   ]
  },
  {
   "cell_type": "code",
   "execution_count": 10,
   "metadata": {},
   "outputs": [],
   "source": [
    "url=\"https://raw.githubusercontent.com/fedhere/PUI2017_fb55/master/HW5_fb55/World%20firearms%20murders%20and%20ownership%20-%20Sheet%201.csv\"\n",
    "ms=pd.read_csv(url)\n",
    "ms.rename(columns={'Country/Territory':'Country'}, inplace=True)\n",
    "ms=ms[[\"Country\",\"Number of homicides by firearm\",\"Average total all civilian firearms\"]]\n",
    "ms =ms.dropna()\n",
    "\n",
    "url2=\"https://raw.githubusercontent.com/biabbiassago/PUI2017_bb1569/master/HW5_bb1569/msdata.csv\"\n",
    "guardianData=pd.read_csv(url2)\n",
    "guardianData=guardianData.dropna()\n",
    "\n",
    "#join the two with info about mass shooting\n",
    "ms=ms.merge(guardianData)"
   ]
  },
  {
   "cell_type": "code",
   "execution_count": 11,
   "metadata": {},
   "outputs": [],
   "source": [
    "url3=\"https://raw.githubusercontent.com/biabbiassago/PUI2017_bb1569/master/HW5_bb1569/API_NY.GDP.csv\"\n",
    "gdpDf=pd.read_csv(url3, usecols=[\"Country Name\",\"2012\"])\n",
    "gdpDf.rename(columns={'2012':'gdp'}, inplace=True)\n",
    "#gdpDf.head()\n",
    "\n",
    "url4=\"https://raw.githubusercontent.com/biabbiassago/PUI2017_bb1569/master/HW5_bb1569/API_SP.POP.csv\"\n",
    "popDf=pd.read_csv(url4, usecols=[\"Country Name\",\"2012\"])\n",
    "popDf.rename(columns={'2012':'pop'}, inplace=True)\n",
    "\n",
    "#join the two with general info stats about the coutry\n",
    "infoDf= popDf.merge(gdpDf)\n",
    "infoDf=infoDf.dropna()"
   ]
  },
  {
   "cell_type": "code",
   "execution_count": 12,
   "metadata": {
    "ExecuteTime": {
     "end_time": "2017-10-12T11:18:40.575581",
     "start_time": "2017-10-12T11:18:40.446116"
    },
    "run_control": {
     "frozen": false,
     "read_only": false
    },
    "scrolled": true
   },
   "outputs": [
    {
     "name": "stdout",
     "output_type": "stream",
     "text": [
      "(22, 7)\n"
     ]
    },
    {
     "data": {
      "text/html": [
       "<div>\n",
       "<style>\n",
       "    .dataframe thead tr:only-child th {\n",
       "        text-align: right;\n",
       "    }\n",
       "\n",
       "    .dataframe thead th {\n",
       "        text-align: left;\n",
       "    }\n",
       "\n",
       "    .dataframe tbody tr th {\n",
       "        vertical-align: top;\n",
       "    }\n",
       "</style>\n",
       "<table border=\"1\" class=\"dataframe\">\n",
       "  <thead>\n",
       "    <tr style=\"text-align: right;\">\n",
       "      <th></th>\n",
       "      <th>Country</th>\n",
       "      <th>pop</th>\n",
       "      <th>gdp</th>\n",
       "      <th>Number of homicides by firearm</th>\n",
       "      <th>Average total all civilian firearms</th>\n",
       "      <th>Guns/100 inhabitants</th>\n",
       "      <th>Number of mass shootings</th>\n",
       "    </tr>\n",
       "  </thead>\n",
       "  <tbody>\n",
       "    <tr>\n",
       "      <th>0</th>\n",
       "      <td>Australia</td>\n",
       "      <td>22728254.0</td>\n",
       "      <td>1.538194e+12</td>\n",
       "      <td>30.0</td>\n",
       "      <td>3050000.0</td>\n",
       "      <td>15.0</td>\n",
       "      <td>4</td>\n",
       "    </tr>\n",
       "    <tr>\n",
       "      <th>1</th>\n",
       "      <td>Austria</td>\n",
       "      <td>8429991.0</td>\n",
       "      <td>4.074516e+11</td>\n",
       "      <td>18.0</td>\n",
       "      <td>2500000.0</td>\n",
       "      <td>30.4</td>\n",
       "      <td>1</td>\n",
       "    </tr>\n",
       "    <tr>\n",
       "      <th>2</th>\n",
       "      <td>Canada</td>\n",
       "      <td>34750545.0</td>\n",
       "      <td>1.824289e+12</td>\n",
       "      <td>173.0</td>\n",
       "      <td>9950000.0</td>\n",
       "      <td>30.8</td>\n",
       "      <td>4</td>\n",
       "    </tr>\n",
       "    <tr>\n",
       "      <th>3</th>\n",
       "      <td>Switzerland</td>\n",
       "      <td>7996861.0</td>\n",
       "      <td>6.650541e+11</td>\n",
       "      <td>57.0</td>\n",
       "      <td>3400000.0</td>\n",
       "      <td>45.7</td>\n",
       "      <td>2</td>\n",
       "    </tr>\n",
       "    <tr>\n",
       "      <th>4</th>\n",
       "      <td>Germany</td>\n",
       "      <td>80425823.0</td>\n",
       "      <td>3.543984e+12</td>\n",
       "      <td>158.0</td>\n",
       "      <td>25000000.0</td>\n",
       "      <td>30.3</td>\n",
       "      <td>7</td>\n",
       "    </tr>\n",
       "    <tr>\n",
       "      <th>5</th>\n",
       "      <td>Denmark</td>\n",
       "      <td>5591572.0</td>\n",
       "      <td>3.271489e+11</td>\n",
       "      <td>15.0</td>\n",
       "      <td>650000.0</td>\n",
       "      <td>12.0</td>\n",
       "      <td>0</td>\n",
       "    </tr>\n",
       "    <tr>\n",
       "      <th>6</th>\n",
       "      <td>Spain</td>\n",
       "      <td>46773055.0</td>\n",
       "      <td>1.335946e+12</td>\n",
       "      <td>90.0</td>\n",
       "      <td>4500000.0</td>\n",
       "      <td>10.4</td>\n",
       "      <td>1</td>\n",
       "    </tr>\n",
       "    <tr>\n",
       "      <th>7</th>\n",
       "      <td>Finland</td>\n",
       "      <td>5413971.0</td>\n",
       "      <td>2.567065e+11</td>\n",
       "      <td>24.0</td>\n",
       "      <td>2400000.0</td>\n",
       "      <td>45.3</td>\n",
       "      <td>2</td>\n",
       "    </tr>\n",
       "    <tr>\n",
       "      <th>8</th>\n",
       "      <td>France</td>\n",
       "      <td>65659790.0</td>\n",
       "      <td>2.681416e+12</td>\n",
       "      <td>35.0</td>\n",
       "      <td>19000000.0</td>\n",
       "      <td>31.2</td>\n",
       "      <td>6</td>\n",
       "    </tr>\n",
       "    <tr>\n",
       "      <th>9</th>\n",
       "      <td>Greece</td>\n",
       "      <td>11045011.0</td>\n",
       "      <td>2.456707e+11</td>\n",
       "      <td>29.0</td>\n",
       "      <td>2500000.0</td>\n",
       "      <td>22.5</td>\n",
       "      <td>0</td>\n",
       "    </tr>\n",
       "    <tr>\n",
       "      <th>10</th>\n",
       "      <td>Hungary</td>\n",
       "      <td>9920362.0</td>\n",
       "      <td>1.273211e+11</td>\n",
       "      <td>7.0</td>\n",
       "      <td>560000.0</td>\n",
       "      <td>5.5</td>\n",
       "      <td>0</td>\n",
       "    </tr>\n",
       "    <tr>\n",
       "      <th>11</th>\n",
       "      <td>Ireland</td>\n",
       "      <td>4586897.0</td>\n",
       "      <td>2.258192e+11</td>\n",
       "      <td>21.0</td>\n",
       "      <td>360000.0</td>\n",
       "      <td>8.6</td>\n",
       "      <td>0</td>\n",
       "    </tr>\n",
       "    <tr>\n",
       "      <th>12</th>\n",
       "      <td>Iceland</td>\n",
       "      <td>320716.0</td>\n",
       "      <td>1.421858e+10</td>\n",
       "      <td>0.0</td>\n",
       "      <td>90000.0</td>\n",
       "      <td>30.3</td>\n",
       "      <td>0</td>\n",
       "    </tr>\n",
       "    <tr>\n",
       "      <th>13</th>\n",
       "      <td>Italy</td>\n",
       "      <td>59539717.0</td>\n",
       "      <td>2.072823e+12</td>\n",
       "      <td>417.0</td>\n",
       "      <td>7000000.0</td>\n",
       "      <td>11.9</td>\n",
       "      <td>0</td>\n",
       "    </tr>\n",
       "    <tr>\n",
       "      <th>14</th>\n",
       "      <td>Japan</td>\n",
       "      <td>127629000.0</td>\n",
       "      <td>6.203213e+12</td>\n",
       "      <td>11.0</td>\n",
       "      <td>710000.0</td>\n",
       "      <td>0.6</td>\n",
       "      <td>0</td>\n",
       "    </tr>\n",
       "    <tr>\n",
       "      <th>15</th>\n",
       "      <td>Luxembourg</td>\n",
       "      <td>530946.0</td>\n",
       "      <td>5.667796e+10</td>\n",
       "      <td>3.0</td>\n",
       "      <td>70000.0</td>\n",
       "      <td>15.3</td>\n",
       "      <td>0</td>\n",
       "    </tr>\n",
       "    <tr>\n",
       "      <th>16</th>\n",
       "      <td>Norway</td>\n",
       "      <td>5018573.0</td>\n",
       "      <td>5.097049e+11</td>\n",
       "      <td>2.0</td>\n",
       "      <td>1400000.0</td>\n",
       "      <td>31.3</td>\n",
       "      <td>1</td>\n",
       "    </tr>\n",
       "    <tr>\n",
       "      <th>17</th>\n",
       "      <td>New Zealand</td>\n",
       "      <td>4408100.0</td>\n",
       "      <td>1.761929e+11</td>\n",
       "      <td>7.0</td>\n",
       "      <td>925000.0</td>\n",
       "      <td>22.6</td>\n",
       "      <td>3</td>\n",
       "    </tr>\n",
       "    <tr>\n",
       "      <th>18</th>\n",
       "      <td>Poland</td>\n",
       "      <td>38063164.0</td>\n",
       "      <td>5.003443e+11</td>\n",
       "      <td>35.0</td>\n",
       "      <td>510000.0</td>\n",
       "      <td>1.3</td>\n",
       "      <td>0</td>\n",
       "    </tr>\n",
       "    <tr>\n",
       "      <th>19</th>\n",
       "      <td>Portugal</td>\n",
       "      <td>10514844.0</td>\n",
       "      <td>2.163682e+11</td>\n",
       "      <td>44.0</td>\n",
       "      <td>900000.0</td>\n",
       "      <td>8.5</td>\n",
       "      <td>1</td>\n",
       "    </tr>\n",
       "    <tr>\n",
       "      <th>20</th>\n",
       "      <td>Sweden</td>\n",
       "      <td>9519374.0</td>\n",
       "      <td>5.438806e+11</td>\n",
       "      <td>37.0</td>\n",
       "      <td>2800000.0</td>\n",
       "      <td>31.6</td>\n",
       "      <td>2</td>\n",
       "    </tr>\n",
       "    <tr>\n",
       "      <th>21</th>\n",
       "      <td>United States</td>\n",
       "      <td>313998379.0</td>\n",
       "      <td>1.615526e+13</td>\n",
       "      <td>9146.0</td>\n",
       "      <td>270000000.0</td>\n",
       "      <td>88.8</td>\n",
       "      <td>78</td>\n",
       "    </tr>\n",
       "  </tbody>\n",
       "</table>\n",
       "</div>"
      ],
      "text/plain": [
       "          Country          pop           gdp  Number of homicides by firearm  \\\n",
       "0       Australia   22728254.0  1.538194e+12                            30.0   \n",
       "1         Austria    8429991.0  4.074516e+11                            18.0   \n",
       "2          Canada   34750545.0  1.824289e+12                           173.0   \n",
       "3     Switzerland    7996861.0  6.650541e+11                            57.0   \n",
       "4         Germany   80425823.0  3.543984e+12                           158.0   \n",
       "5         Denmark    5591572.0  3.271489e+11                            15.0   \n",
       "6           Spain   46773055.0  1.335946e+12                            90.0   \n",
       "7         Finland    5413971.0  2.567065e+11                            24.0   \n",
       "8          France   65659790.0  2.681416e+12                            35.0   \n",
       "9          Greece   11045011.0  2.456707e+11                            29.0   \n",
       "10        Hungary    9920362.0  1.273211e+11                             7.0   \n",
       "11        Ireland    4586897.0  2.258192e+11                            21.0   \n",
       "12        Iceland     320716.0  1.421858e+10                             0.0   \n",
       "13          Italy   59539717.0  2.072823e+12                           417.0   \n",
       "14          Japan  127629000.0  6.203213e+12                            11.0   \n",
       "15     Luxembourg     530946.0  5.667796e+10                             3.0   \n",
       "16         Norway    5018573.0  5.097049e+11                             2.0   \n",
       "17    New Zealand    4408100.0  1.761929e+11                             7.0   \n",
       "18         Poland   38063164.0  5.003443e+11                            35.0   \n",
       "19       Portugal   10514844.0  2.163682e+11                            44.0   \n",
       "20         Sweden    9519374.0  5.438806e+11                            37.0   \n",
       "21  United States  313998379.0  1.615526e+13                          9146.0   \n",
       "\n",
       "    Average total all civilian firearms  Guns/100 inhabitants  \\\n",
       "0                             3050000.0                  15.0   \n",
       "1                             2500000.0                  30.4   \n",
       "2                             9950000.0                  30.8   \n",
       "3                             3400000.0                  45.7   \n",
       "4                            25000000.0                  30.3   \n",
       "5                              650000.0                  12.0   \n",
       "6                             4500000.0                  10.4   \n",
       "7                             2400000.0                  45.3   \n",
       "8                            19000000.0                  31.2   \n",
       "9                             2500000.0                  22.5   \n",
       "10                             560000.0                   5.5   \n",
       "11                             360000.0                   8.6   \n",
       "12                              90000.0                  30.3   \n",
       "13                            7000000.0                  11.9   \n",
       "14                             710000.0                   0.6   \n",
       "15                              70000.0                  15.3   \n",
       "16                            1400000.0                  31.3   \n",
       "17                             925000.0                  22.6   \n",
       "18                             510000.0                   1.3   \n",
       "19                             900000.0                   8.5   \n",
       "20                            2800000.0                  31.6   \n",
       "21                          270000000.0                  88.8   \n",
       "\n",
       "    Number of mass shootings  \n",
       "0                          4  \n",
       "1                          1  \n",
       "2                          4  \n",
       "3                          2  \n",
       "4                          7  \n",
       "5                          0  \n",
       "6                          1  \n",
       "7                          2  \n",
       "8                          6  \n",
       "9                          0  \n",
       "10                         0  \n",
       "11                         0  \n",
       "12                         0  \n",
       "13                         0  \n",
       "14                         0  \n",
       "15                         0  \n",
       "16                         1  \n",
       "17                         3  \n",
       "18                         0  \n",
       "19                         1  \n",
       "20                         2  \n",
       "21                        78  "
      ]
     },
     "execution_count": 12,
     "metadata": {},
     "output_type": "execute_result"
    }
   ],
   "source": [
    "#final merge to have our dataset!!\n",
    "msDf = infoDf.merge(ms, right_on=\"Country\", left_on=\"Country Name\")\n",
    "msDf=msDf.dropna()\n",
    "msDf=msDf.drop(\"Country\",1)\n",
    "msDf.rename(columns={\"Country Name\":\"Country\"},inplace=True)\n",
    "print(shape(msDf))\n",
    "msDf.head(22)"
   ]
  },
  {
   "cell_type": "markdown",
   "metadata": {},
   "source": [
    "Data is imported and in correct format! I dropped the extra \"Country\" name colum because it seems unnecessary. Now I can begin exploration ....\n",
    "\n"
   ]
  },
  {
   "cell_type": "markdown",
   "metadata": {},
   "source": [
    "# exploration\n",
    "\n",
    "## plot mass shooting vs gdp in absolute numbers, and per person. Show the errorbars (y errors)\n",
    "\n",
    "Use Poisson statistics for the errorbars on the number of mass shootings (optional: include errors on the population, also as Poisson statistics)\n",
    "\n",
    "Are there any points that look like they may be outilers?\n"
   ]
  },
  {
   "cell_type": "markdown",
   "metadata": {},
   "source": [
    "#  1-MASS SHOOTING VS GDP IN ABSOLUTE NUMBERS "
   ]
  },
  {
   "cell_type": "code",
   "execution_count": 13,
   "metadata": {
    "ExecuteTime": {
     "end_time": "2017-10-12T11:24:38.210994",
     "start_time": "2017-10-12T11:24:37.927232"
    },
    "scrolled": true
   },
   "outputs": [
    {
     "data": {
      "image/png": "[encoded data removed]",
      "text/plain": [
       "<matplotlib.figure.Figure at 0x11d83d780>"
      ]
     },
     "metadata": {},
     "output_type": "display_data"
    },
    {
     "name": "stdout",
     "output_type": "stream",
     "text": [
      "Number of mass shooting vs GDP, errors represent Poisson statistics.\n",
      "The datapoint to the top right of the plot is the USA, which has noth the highest GDP and the highest number of mass shootings\n"
     ]
    }
   ],
   "source": [
    "fig = pl.figure(figsize=(10,5)) \n",
    "ax = fig.add_subplot(111)\n",
    "\n",
    "scatter = ax.scatter(msDf.gdp / 1e9, msDf['Number of mass shootings'])\n",
    "ax.errorbar(msDf.gdp / 1e9, msDf['Number of mass shootings'], \n",
    "            yerr = np.sqrt(msDf['Number of mass shootings'] * 1.0), fmt = '.')\n",
    "ax.set_xlabel(\"GDP (in billions)\")\n",
    "ax.set_ylabel(\"Number of mass shooting \")\n",
    "ax.set_ylim()\n",
    "pl.show()\n",
    "print (\"Number of mass shooting vs GDP, \" + \n",
    "       \"errors represent Poisson statistics.\\n\" + \n",
    "       \"The datapoint to the top right of the plot is the USA, \" + \n",
    "       \"which has noth the highest GDP and the highest number of mass shootings\")\n"
   ]
  },
  {
   "cell_type": "code",
   "execution_count": 14,
   "metadata": {
    "ExecuteTime": {
     "end_time": "2017-10-12T07:17:52.778486",
     "start_time": "2017-10-12T07:17:52.768299"
    },
    "run_control": {
     "frozen": false,
     "read_only": false
    }
   },
   "outputs": [
    {
     "data": {
      "text/html": [
       "<div>\n",
       "<style>\n",
       "    .dataframe thead tr:only-child th {\n",
       "        text-align: right;\n",
       "    }\n",
       "\n",
       "    .dataframe thead th {\n",
       "        text-align: left;\n",
       "    }\n",
       "\n",
       "    .dataframe tbody tr th {\n",
       "        vertical-align: top;\n",
       "    }\n",
       "</style>\n",
       "<table border=\"1\" class=\"dataframe\">\n",
       "  <thead>\n",
       "    <tr style=\"text-align: right;\">\n",
       "      <th></th>\n",
       "      <th>Country</th>\n",
       "      <th>pop</th>\n",
       "      <th>gdp</th>\n",
       "      <th>Number of homicides by firearm</th>\n",
       "      <th>Average total all civilian firearms</th>\n",
       "      <th>Guns/100 inhabitants</th>\n",
       "      <th>Number of mass shootings</th>\n",
       "      <th>shootingspp</th>\n",
       "      <th>civilianpp</th>\n",
       "    </tr>\n",
       "  </thead>\n",
       "  <tbody>\n",
       "    <tr>\n",
       "      <th>0</th>\n",
       "      <td>Australia</td>\n",
       "      <td>22728254.0</td>\n",
       "      <td>1.538194e+12</td>\n",
       "      <td>30.0</td>\n",
       "      <td>3050000.0</td>\n",
       "      <td>15.0</td>\n",
       "      <td>4</td>\n",
       "      <td>0.000176</td>\n",
       "      <td>0.134194</td>\n",
       "    </tr>\n",
       "    <tr>\n",
       "      <th>1</th>\n",
       "      <td>Austria</td>\n",
       "      <td>8429991.0</td>\n",
       "      <td>4.074516e+11</td>\n",
       "      <td>18.0</td>\n",
       "      <td>2500000.0</td>\n",
       "      <td>30.4</td>\n",
       "      <td>1</td>\n",
       "      <td>0.000119</td>\n",
       "      <td>0.296560</td>\n",
       "    </tr>\n",
       "    <tr>\n",
       "      <th>2</th>\n",
       "      <td>Canada</td>\n",
       "      <td>34750545.0</td>\n",
       "      <td>1.824289e+12</td>\n",
       "      <td>173.0</td>\n",
       "      <td>9950000.0</td>\n",
       "      <td>30.8</td>\n",
       "      <td>4</td>\n",
       "      <td>0.000115</td>\n",
       "      <td>0.286326</td>\n",
       "    </tr>\n",
       "    <tr>\n",
       "      <th>3</th>\n",
       "      <td>Switzerland</td>\n",
       "      <td>7996861.0</td>\n",
       "      <td>6.650541e+11</td>\n",
       "      <td>57.0</td>\n",
       "      <td>3400000.0</td>\n",
       "      <td>45.7</td>\n",
       "      <td>2</td>\n",
       "      <td>0.000250</td>\n",
       "      <td>0.425167</td>\n",
       "    </tr>\n",
       "    <tr>\n",
       "      <th>4</th>\n",
       "      <td>Germany</td>\n",
       "      <td>80425823.0</td>\n",
       "      <td>3.543984e+12</td>\n",
       "      <td>158.0</td>\n",
       "      <td>25000000.0</td>\n",
       "      <td>30.3</td>\n",
       "      <td>7</td>\n",
       "      <td>0.000087</td>\n",
       "      <td>0.310845</td>\n",
       "    </tr>\n",
       "    <tr>\n",
       "      <th>5</th>\n",
       "      <td>Denmark</td>\n",
       "      <td>5591572.0</td>\n",
       "      <td>3.271489e+11</td>\n",
       "      <td>15.0</td>\n",
       "      <td>650000.0</td>\n",
       "      <td>12.0</td>\n",
       "      <td>0</td>\n",
       "      <td>0.000000</td>\n",
       "      <td>0.116246</td>\n",
       "    </tr>\n",
       "    <tr>\n",
       "      <th>6</th>\n",
       "      <td>Spain</td>\n",
       "      <td>46773055.0</td>\n",
       "      <td>1.335946e+12</td>\n",
       "      <td>90.0</td>\n",
       "      <td>4500000.0</td>\n",
       "      <td>10.4</td>\n",
       "      <td>1</td>\n",
       "      <td>0.000021</td>\n",
       "      <td>0.096209</td>\n",
       "    </tr>\n",
       "    <tr>\n",
       "      <th>7</th>\n",
       "      <td>Finland</td>\n",
       "      <td>5413971.0</td>\n",
       "      <td>2.567065e+11</td>\n",
       "      <td>24.0</td>\n",
       "      <td>2400000.0</td>\n",
       "      <td>45.3</td>\n",
       "      <td>2</td>\n",
       "      <td>0.000369</td>\n",
       "      <td>0.443298</td>\n",
       "    </tr>\n",
       "    <tr>\n",
       "      <th>8</th>\n",
       "      <td>France</td>\n",
       "      <td>65659790.0</td>\n",
       "      <td>2.681416e+12</td>\n",
       "      <td>35.0</td>\n",
       "      <td>19000000.0</td>\n",
       "      <td>31.2</td>\n",
       "      <td>6</td>\n",
       "      <td>0.000091</td>\n",
       "      <td>0.289370</td>\n",
       "    </tr>\n",
       "    <tr>\n",
       "      <th>9</th>\n",
       "      <td>Greece</td>\n",
       "      <td>11045011.0</td>\n",
       "      <td>2.456707e+11</td>\n",
       "      <td>29.0</td>\n",
       "      <td>2500000.0</td>\n",
       "      <td>22.5</td>\n",
       "      <td>0</td>\n",
       "      <td>0.000000</td>\n",
       "      <td>0.226347</td>\n",
       "    </tr>\n",
       "    <tr>\n",
       "      <th>10</th>\n",
       "      <td>Hungary</td>\n",
       "      <td>9920362.0</td>\n",
       "      <td>1.273211e+11</td>\n",
       "      <td>7.0</td>\n",
       "      <td>560000.0</td>\n",
       "      <td>5.5</td>\n",
       "      <td>0</td>\n",
       "      <td>0.000000</td>\n",
       "      <td>0.056450</td>\n",
       "    </tr>\n",
       "    <tr>\n",
       "      <th>11</th>\n",
       "      <td>Ireland</td>\n",
       "      <td>4586897.0</td>\n",
       "      <td>2.258192e+11</td>\n",
       "      <td>21.0</td>\n",
       "      <td>360000.0</td>\n",
       "      <td>8.6</td>\n",
       "      <td>0</td>\n",
       "      <td>0.000000</td>\n",
       "      <td>0.078484</td>\n",
       "    </tr>\n",
       "    <tr>\n",
       "      <th>12</th>\n",
       "      <td>Iceland</td>\n",
       "      <td>320716.0</td>\n",
       "      <td>1.421858e+10</td>\n",
       "      <td>0.0</td>\n",
       "      <td>90000.0</td>\n",
       "      <td>30.3</td>\n",
       "      <td>0</td>\n",
       "      <td>0.000000</td>\n",
       "      <td>0.280622</td>\n",
       "    </tr>\n",
       "    <tr>\n",
       "      <th>13</th>\n",
       "      <td>Italy</td>\n",
       "      <td>59539717.0</td>\n",
       "      <td>2.072823e+12</td>\n",
       "      <td>417.0</td>\n",
       "      <td>7000000.0</td>\n",
       "      <td>11.9</td>\n",
       "      <td>0</td>\n",
       "      <td>0.000000</td>\n",
       "      <td>0.117569</td>\n",
       "    </tr>\n",
       "    <tr>\n",
       "      <th>14</th>\n",
       "      <td>Japan</td>\n",
       "      <td>127629000.0</td>\n",
       "      <td>6.203213e+12</td>\n",
       "      <td>11.0</td>\n",
       "      <td>710000.0</td>\n",
       "      <td>0.6</td>\n",
       "      <td>0</td>\n",
       "      <td>0.000000</td>\n",
       "      <td>0.005563</td>\n",
       "    </tr>\n",
       "    <tr>\n",
       "      <th>15</th>\n",
       "      <td>Luxembourg</td>\n",
       "      <td>530946.0</td>\n",
       "      <td>5.667796e+10</td>\n",
       "      <td>3.0</td>\n",
       "      <td>70000.0</td>\n",
       "      <td>15.3</td>\n",
       "      <td>0</td>\n",
       "      <td>0.000000</td>\n",
       "      <td>0.131840</td>\n",
       "    </tr>\n",
       "    <tr>\n",
       "      <th>16</th>\n",
       "      <td>Norway</td>\n",
       "      <td>5018573.0</td>\n",
       "      <td>5.097049e+11</td>\n",
       "      <td>2.0</td>\n",
       "      <td>1400000.0</td>\n",
       "      <td>31.3</td>\n",
       "      <td>1</td>\n",
       "      <td>0.000199</td>\n",
       "      <td>0.278964</td>\n",
       "    </tr>\n",
       "    <tr>\n",
       "      <th>17</th>\n",
       "      <td>New Zealand</td>\n",
       "      <td>4408100.0</td>\n",
       "      <td>1.761929e+11</td>\n",
       "      <td>7.0</td>\n",
       "      <td>925000.0</td>\n",
       "      <td>22.6</td>\n",
       "      <td>3</td>\n",
       "      <td>0.000681</td>\n",
       "      <td>0.209841</td>\n",
       "    </tr>\n",
       "    <tr>\n",
       "      <th>18</th>\n",
       "      <td>Poland</td>\n",
       "      <td>38063164.0</td>\n",
       "      <td>5.003443e+11</td>\n",
       "      <td>35.0</td>\n",
       "      <td>510000.0</td>\n",
       "      <td>1.3</td>\n",
       "      <td>0</td>\n",
       "      <td>0.000000</td>\n",
       "      <td>0.013399</td>\n",
       "    </tr>\n",
       "    <tr>\n",
       "      <th>19</th>\n",
       "      <td>Portugal</td>\n",
       "      <td>10514844.0</td>\n",
       "      <td>2.163682e+11</td>\n",
       "      <td>44.0</td>\n",
       "      <td>900000.0</td>\n",
       "      <td>8.5</td>\n",
       "      <td>1</td>\n",
       "      <td>0.000095</td>\n",
       "      <td>0.085593</td>\n",
       "    </tr>\n",
       "    <tr>\n",
       "      <th>20</th>\n",
       "      <td>Sweden</td>\n",
       "      <td>9519374.0</td>\n",
       "      <td>5.438806e+11</td>\n",
       "      <td>37.0</td>\n",
       "      <td>2800000.0</td>\n",
       "      <td>31.6</td>\n",
       "      <td>2</td>\n",
       "      <td>0.000210</td>\n",
       "      <td>0.294137</td>\n",
       "    </tr>\n",
       "    <tr>\n",
       "      <th>21</th>\n",
       "      <td>United States</td>\n",
       "      <td>313998379.0</td>\n",
       "      <td>1.615526e+13</td>\n",
       "      <td>9146.0</td>\n",
       "      <td>270000000.0</td>\n",
       "      <td>88.8</td>\n",
       "      <td>78</td>\n",
       "      <td>0.000248</td>\n",
       "      <td>0.859877</td>\n",
       "    </tr>\n",
       "  </tbody>\n",
       "</table>\n",
       "</div>"
      ],
      "text/plain": [
       "          Country          pop           gdp  Number of homicides by firearm  \\\n",
       "0       Australia   22728254.0  1.538194e+12                            30.0   \n",
       "1         Austria    8429991.0  4.074516e+11                            18.0   \n",
       "2          Canada   34750545.0  1.824289e+12                           173.0   \n",
       "3     Switzerland    7996861.0  6.650541e+11                            57.0   \n",
       "4         Germany   80425823.0  3.543984e+12                           158.0   \n",
       "5         Denmark    5591572.0  3.271489e+11                            15.0   \n",
       "6           Spain   46773055.0  1.335946e+12                            90.0   \n",
       "7         Finland    5413971.0  2.567065e+11                            24.0   \n",
       "8          France   65659790.0  2.681416e+12                            35.0   \n",
       "9          Greece   11045011.0  2.456707e+11                            29.0   \n",
       "10        Hungary    9920362.0  1.273211e+11                             7.0   \n",
       "11        Ireland    4586897.0  2.258192e+11                            21.0   \n",
       "12        Iceland     320716.0  1.421858e+10                             0.0   \n",
       "13          Italy   59539717.0  2.072823e+12                           417.0   \n",
       "14          Japan  127629000.0  6.203213e+12                            11.0   \n",
       "15     Luxembourg     530946.0  5.667796e+10                             3.0   \n",
       "16         Norway    5018573.0  5.097049e+11                             2.0   \n",
       "17    New Zealand    4408100.0  1.761929e+11                             7.0   \n",
       "18         Poland   38063164.0  5.003443e+11                            35.0   \n",
       "19       Portugal   10514844.0  2.163682e+11                            44.0   \n",
       "20         Sweden    9519374.0  5.438806e+11                            37.0   \n",
       "21  United States  313998379.0  1.615526e+13                          9146.0   \n",
       "\n",
       "    Average total all civilian firearms  Guns/100 inhabitants  \\\n",
       "0                             3050000.0                  15.0   \n",
       "1                             2500000.0                  30.4   \n",
       "2                             9950000.0                  30.8   \n",
       "3                             3400000.0                  45.7   \n",
       "4                            25000000.0                  30.3   \n",
       "5                              650000.0                  12.0   \n",
       "6                             4500000.0                  10.4   \n",
       "7                             2400000.0                  45.3   \n",
       "8                            19000000.0                  31.2   \n",
       "9                             2500000.0                  22.5   \n",
       "10                             560000.0                   5.5   \n",
       "11                             360000.0                   8.6   \n",
       "12                              90000.0                  30.3   \n",
       "13                            7000000.0                  11.9   \n",
       "14                             710000.0                   0.6   \n",
       "15                              70000.0                  15.3   \n",
       "16                            1400000.0                  31.3   \n",
       "17                             925000.0                  22.6   \n",
       "18                             510000.0                   1.3   \n",
       "19                             900000.0                   8.5   \n",
       "20                            2800000.0                  31.6   \n",
       "21                          270000000.0                  88.8   \n",
       "\n",
       "    Number of mass shootings  shootingspp  civilianpp  \n",
       "0                          4     0.000176    0.134194  \n",
       "1                          1     0.000119    0.296560  \n",
       "2                          4     0.000115    0.286326  \n",
       "3                          2     0.000250    0.425167  \n",
       "4                          7     0.000087    0.310845  \n",
       "5                          0     0.000000    0.116246  \n",
       "6                          1     0.000021    0.096209  \n",
       "7                          2     0.000369    0.443298  \n",
       "8                          6     0.000091    0.289370  \n",
       "9                          0     0.000000    0.226347  \n",
       "10                         0     0.000000    0.056450  \n",
       "11                         0     0.000000    0.078484  \n",
       "12                         0     0.000000    0.280622  \n",
       "13                         0     0.000000    0.117569  \n",
       "14                         0     0.000000    0.005563  \n",
       "15                         0     0.000000    0.131840  \n",
       "16                         1     0.000199    0.278964  \n",
       "17                         3     0.000681    0.209841  \n",
       "18                         0     0.000000    0.013399  \n",
       "19                         1     0.000095    0.085593  \n",
       "20                         2     0.000210    0.294137  \n",
       "21                        78     0.000248    0.859877  "
      ]
     },
     "execution_count": 14,
     "metadata": {},
     "output_type": "execute_result"
    }
   ],
   "source": [
    "msDf['shootingspp'] =msDf[\"Number of mass shootings\"] / msDf['pop'] * 1e3\n",
    "msDf['civilianpp']= msDf['Average total all civilian firearms']/ msDf['pop']\n",
    "msDf"
   ]
  },
  {
   "cell_type": "markdown",
   "metadata": {},
   "source": [
    "#  2-MASS SHOOTING VS GDP PER PERSON "
   ]
  },
  {
   "cell_type": "code",
   "execution_count": 15,
   "metadata": {},
   "outputs": [
    {
     "data": {
      "image/png": "[encoded data removed]",
      "text/plain": [
       "<matplotlib.figure.Figure at 0x11d8357f0>"
      ]
     },
     "metadata": {},
     "output_type": "display_data"
    },
    {
     "name": "stdout",
     "output_type": "stream",
     "text": [
      "Number of mass shooting vs GDP, errors represent Poisson statistics.\n",
      "The datapoint to the top right of the plot is the USA, which has noth the highest GDP and the highest number of mass shootings\n"
     ]
    }
   ],
   "source": [
    "fig = pl.figure(figsize=(10,5)) \n",
    "ax = fig.add_subplot(111)\n",
    "\n",
    "scatter = ax.scatter((msDf.gdp) / 1e9, msDf['shootingspp'])\n",
    "ax.errorbar(msDf.gdp/1e9, msDf['shootingspp'], yerr = np.sqrt(msDf['shootingspp'] * 1.0), fmt = '.')\n",
    "ax.set_xlabel(\"GDP (in billions)\")\n",
    "ax.set_ylabel(\"Number of mass shooting per person \")\n",
    "ax.set_ylim()\n",
    "pl.show()\n",
    "print (\"Number of mass shooting vs GDP, \" + \n",
    "       \"errors represent Poisson statistics.\\n\" + \n",
    "       \"The datapoint to the top right of the plot is the USA, \" + \n",
    "       \"which has noth the highest GDP and the highest number of mass shootings\")\n"
   ]
  },
  {
   "cell_type": "markdown",
   "metadata": {},
   "source": [
    "## plot the average number of civilian fire arms per person\n",
    "first without errors, then with errors. are there  points that look like outliers?"
   ]
  },
  {
   "cell_type": "code",
   "execution_count": 16,
   "metadata": {},
   "outputs": [
    {
     "data": {
      "image/png": "[encoded data removed]",
      "text/plain": [
       "<matplotlib.figure.Figure at 0x11d835320>"
      ]
     },
     "metadata": {},
     "output_type": "display_data"
    }
   ],
   "source": [
    "fig, ax = plt.subplots()\n",
    "ax.hist(msDf['Average total all civilian firearms'] / msDf['pop'] * 1000)\n",
    "ax.set_xlabel('Average number of civilian fire arms per 1000 people');\n",
    "ax.set_title(\"Histogram of civilian fire arms per 1000 people \");"
   ]
  },
  {
   "cell_type": "markdown",
   "metadata": {},
   "source": [
    "## plot the average number of homicide by fire arms per person\n",
    "first as a histogram\n",
    "\n",
    "then against the country GDP, with statistical errors. are there  points that look like outliers?"
   ]
  },
  {
   "cell_type": "code",
   "execution_count": 17,
   "metadata": {
    "ExecuteTime": {
     "end_time": "2017-10-12T07:53:17.910541",
     "start_time": "2017-10-12T07:53:17.506477"
    }
   },
   "outputs": [
    {
     "data": {
      "image/png": "[encoded data removed]",
      "text/plain": [
       "<matplotlib.figure.Figure at 0x11d8356a0>"
      ]
     },
     "metadata": {},
     "output_type": "display_data"
    }
   ],
   "source": [
    "fig, ax = plt.subplots()\n",
    "ax.hist(msDf['Number of homicides by firearm'] / msDf['pop'] * 1000)\n",
    "ax.set_xlabel('homicides by firearm per 1000 people');\n"
   ]
  },
  {
   "cell_type": "markdown",
   "metadata": {},
   "source": [
    "## plot the number of  homicides by fire arm against the number of civilian firearms. plot the  US in a different color\n",
    "with and without errorbars\n",
    "OK-- see below"
   ]
  },
  {
   "cell_type": "markdown",
   "metadata": {},
   "source": [
    "# Plotting without errorbars"
   ]
  },
  {
   "cell_type": "code",
   "execution_count": 18,
   "metadata": {},
   "outputs": [
    {
     "data": {
      "image/png": "[encoded data removed]",
      "text/plain": [
       "<matplotlib.figure.Figure at 0x11dfd3080>"
      ]
     },
     "metadata": {},
     "output_type": "display_data"
    },
    {
     "name": "stdout",
     "output_type": "stream",
     "text": [
      "Number of homicides by firearm vs Average total all civilian firearms, errors represent Poisson statistics.\n",
      "The datapoint to the top right (plotted with red color) of the plot is the USA\n"
     ]
    }
   ],
   "source": [
    "fig = pl.figure(figsize=(10,5)) \n",
    "ax = fig.add_subplot(111)\n",
    "\n",
    "#Exclude the US note that it is the last row in the dataframe\n",
    "#so I am plotting UP to length-1 first \n",
    "\n",
    "myData=msDf[[\"Average total all civilian firearms\", \"Number of homicides by firearm\"]]\n",
    "vals=myData.values\n",
    "length=len(vals)\n",
    "scatter = ax.scatter(vals[:(length-1), 0], vals[:(length-1), 1], color='blue')\n",
    "\n",
    "#I am now plotting the US with RED color\n",
    "ax.scatter(vals[(length-1), 0], vals[(length-1), 1],color='red')\n",
    "\n",
    "\n",
    "\n",
    "ax.set_xlabel(\"Average total all civilian firearms\")\n",
    "ax.set_ylabel(\"Number of homicides by firearm\")\n",
    "\n",
    "\n",
    "ax.set_ylim()\n",
    "\n",
    "\n",
    "\n",
    "\n",
    "\n",
    "pl.show()\n",
    "print (\"Number of homicides by firearm vs Average total all civilian firearms, \" + \n",
    "       \"errors represent Poisson statistics.\\n\" + \n",
    "       \"The datapoint to the top right (plotted with red color) of the plot is the USA\")"
   ]
  },
  {
   "cell_type": "markdown",
   "metadata": {},
   "source": [
    "## PLOTTING WITH ERROR BARS (Xerr and Yerr)"
   ]
  },
  {
   "cell_type": "code",
   "execution_count": 19,
   "metadata": {
    "scrolled": true
   },
   "outputs": [
    {
     "data": {
      "image/png": "[encoded data removed]",
      "text/plain": [
       "<matplotlib.figure.Figure at 0x11d863320>"
      ]
     },
     "metadata": {},
     "output_type": "display_data"
    },
    {
     "name": "stdout",
     "output_type": "stream",
     "text": [
      "Number of homicides by firearm vs Average total all civilian firearms, errors represent Poisson statistics.\n",
      "The datapoint to the top right (plotted with red color) of the plot is the USA\n"
     ]
    }
   ],
   "source": [
    "fig = pl.figure(figsize=(10,5)) \n",
    "ax = fig.add_subplot(111)\n",
    "\n",
    "#Exclude the US note that it is the last row in the dataframe\n",
    "#so I am plotting UP to length-1 first \n",
    "\n",
    "myData=msDf[[\"Average total all civilian firearms\", \"Number of homicides by firearm\"]]\n",
    "vals=myData.values\n",
    "length=len(vals)\n",
    "scatter = ax.scatter(vals[:(length-1), 0], vals[:(length-1), 1], color='blue')\n",
    "\n",
    "ax.errorbar(vals[:(length-1), 0], vals[:(length-1), 1], \n",
    "            xerr= np.sqrt(vals[:(length-1), 0]*1.0),\n",
    "            yerr = np.sqrt(vals[:(length-1), 1] * 1.0), color='black', fmt = '.')\n",
    "\n",
    "#I am now plotting the US with RED color\n",
    "ax.scatter(vals[(length-1), 0], vals[(length-1), 1],color='red')\n",
    "\n",
    "ax.errorbar(vals[(length-1), 0], vals[(length-1), 1], \n",
    "            xerr= np.sqrt(vals[(length-1), 0] * 1.0),\n",
    "            yerr = np.sqrt(vals[(length-1), 1] * 1.0), color='black', fmt = '.')\n",
    "\n",
    "#I always used black color for plotting error bars\n",
    "\n",
    "\n",
    "ax.set_xlabel(\"Average total all civilian firearms\")\n",
    "ax.set_ylabel(\"Number of homicides by firearm\")\n",
    "\n",
    "\n",
    "ax.set_ylim()\n",
    "\n",
    "\n",
    "\n",
    "\n",
    "\n",
    "pl.show()\n",
    "print (\"Number of homicides by firearm vs Average total all civilian firearms, \" + \n",
    "       \"errors represent Poisson statistics.\\n\" + \n",
    "       \"The datapoint to the top right (plotted with red color) of the plot is the USA\")"
   ]
  },
  {
   "cell_type": "markdown",
   "metadata": {},
   "source": [
    "## plot the number of  mass shootings against the number of civilian firearms. plot the  US in a different color\n",
    "with and without errorbars\n"
   ]
  },
  {
   "cell_type": "markdown",
   "metadata": {},
   "source": [
    "## without errorbars"
   ]
  },
  {
   "cell_type": "code",
   "execution_count": 20,
   "metadata": {},
   "outputs": [
    {
     "data": {
      "image/png": "[encoded data removed]",
      "text/plain": [
       "<matplotlib.figure.Figure at 0x11df629e8>"
      ]
     },
     "metadata": {},
     "output_type": "display_data"
    },
    {
     "name": "stdout",
     "output_type": "stream",
     "text": [
      "Number of mass shootings vs Average total all civilian firearms, errors represent Poisson statistics.\n",
      "The datapoint to the top right (plotted with red color) of the plot is the USA\n"
     ]
    }
   ],
   "source": [
    "fig = pl.figure(figsize=(10,5)) \n",
    "ax = fig.add_subplot(111)\n",
    "\n",
    "#Exclude the US note that it is the last row in the dataframe\n",
    "#so I am plotting UP to length-1 first \n",
    "\n",
    "myData=msDf[[\"Average total all civilian firearms\", \"Number of mass shootings\"]]\n",
    "vals=myData.values\n",
    "length=len(vals)\n",
    "scatter = ax.scatter(vals[:(length-1), 0], vals[:(length-1), 1], color='blue')\n",
    "\n",
    "#I am now plotting the US with RED color\n",
    "ax.scatter(vals[(length-1), 0], vals[(length-1), 1],color='red')\n",
    "\n",
    "ax.set_xlabel(\"Average total all civilian firearms\")\n",
    "ax.set_ylabel(\"Number of mass shootings\")\n",
    "\n",
    "\n",
    "ax.set_ylim()\n",
    "\n",
    "\n",
    "\n",
    "\n",
    "\n",
    "pl.show()\n",
    "print (\"Number of mass shootings vs Average total all civilian firearms, \" + \n",
    "       \"errors represent Poisson statistics.\\n\" + \n",
    "       \"The datapoint to the top right (plotted with red color) of the plot is the USA\")"
   ]
  },
  {
   "cell_type": "markdown",
   "metadata": {},
   "source": [
    "## With Error Bars"
   ]
  },
  {
   "cell_type": "code",
   "execution_count": 21,
   "metadata": {},
   "outputs": [
    {
     "data": {
      "image/png": "[encoded data removed]",
      "text/plain": [
       "<matplotlib.figure.Figure at 0x11dfb5278>"
      ]
     },
     "metadata": {},
     "output_type": "display_data"
    },
    {
     "name": "stdout",
     "output_type": "stream",
     "text": [
      "Number of mass shootings vs Average total all civilian firearms, errors represent Poisson statistics.\n",
      "The datapoint to the top right (plotted with red color) of the plot is the USA\n"
     ]
    }
   ],
   "source": [
    "fig = pl.figure(figsize=(10,5)) \n",
    "ax = fig.add_subplot(111)\n",
    "\n",
    "#Exclude the US note that it is the last row in the dataframe\n",
    "#so I am plotting UP to length-1 first \n",
    "\n",
    "myData=msDf[[\"Average total all civilian firearms\", \"Number of mass shootings\"]]\n",
    "vals=myData.values\n",
    "length=len(vals)\n",
    "scatter = ax.scatter(vals[:(length-1), 0], vals[:(length-1), 1], color='blue')\n",
    "\n",
    "ax.errorbar(vals[:(length-1), 0], vals[:(length-1), 1], \n",
    "            xerr= np.sqrt(vals[:(length-1), 0]*1.0),\n",
    "            yerr = np.sqrt(vals[:(length-1), 1] * 1.0), color='black', fmt = '.')\n",
    "\n",
    "#I am now plotting the US with RED color\n",
    "ax.scatter(vals[(length-1), 0], vals[(length-1), 1],color='red')\n",
    "\n",
    "ax.errorbar(vals[(length-1), 0], vals[(length-1), 1], \n",
    "            xerr= np.sqrt(vals[(length-1), 0] * 1.0),\n",
    "            yerr = np.sqrt(vals[(length-1), 1] * 1.0), color='black', fmt = '.')\n",
    "\n",
    "#I always used black color for plotting error bars\n",
    "\n",
    "\n",
    "ax.set_xlabel(\"Average total all civilian firearms\")\n",
    "ax.set_ylabel(\"Number of mass shootings\")\n",
    "ax.set_ylim()\n",
    "\n",
    "\n",
    "pl.show()\n",
    "print (\"Number of mass shootings vs Average total all civilian firearms, \" + \n",
    "       \"errors represent Poisson statistics.\\n\" + \n",
    "       \"The datapoint to the top right (plotted with red color) of the plot is the USA\")"
   ]
  },
  {
   "cell_type": "markdown",
   "metadata": {},
   "source": [
    "# Modeling\n",
    "\n",
    "## fit a line to the Number of mass shootings  per person as a function of Average total all civilian firearms per person. \n",
    "Before you do it it is a good idea to make sure that both quantities are roughly of the same order of magnitude (unity). (You can simply divide by the order of magnitude of the mean of the sample to obtain this). Use\n",
    "\n",
    "    - statsmodels OLS\n",
    "    - statsmodels WLS\n",
    "    - seaborn\n",
    "    - choose one of\n",
    "        -- creating a function that calculates the residuals and minimizing that function\n",
    "        -- analytical solution http://mathworld.wolfram.com/LeastSquaresFitting.html\n",
    "        -- numpy.polyfit() - https://docs.scipy.org/doc/numpy-1.13.0/reference/generated/numpy.polyfit.html\n",
    "    \n",
    "\n",
    "WLS: that is the weighted square fit. The statsmodel package WLS function allows you to take the uncertainties of each data point into account when you fit your model. It takes the parameter weights, which is the inverse of your errors:\n",
    "weights = 1.0/df.yerror\n",
    "Notice that \n",
    "    a - sqrt(0) = 0\n",
    "    b - 1/0 = infinity\n",
    "    c - you cannot have weight that are infinity in your fit. Please come up with a solution and justify it.\n",
    "\n",
    "\n",
    "the latter three you can learn about in this example: https://github.com/fedhere/PUI2017_fb55/blob/master/Lab5_fb55/genderIncomeBias.ipynb\n",
    "Since we did not discuss these, I will add some notes to the repo in the afternoon.\n",
    "\n",
    "Use the seaborn python package built in regression function  to plot the regression confidence intervals. \n",
    "\n",
    "import seaborn  as sns\n",
    "sns.regplot(x=\"x\", y=\"y\", data=df);\n",
    "\n",
    "\n"
   ]
  },
  {
   "cell_type": "code",
   "execution_count": 22,
   "metadata": {},
   "outputs": [
    {
     "data": {
      "text/html": [
       "<div>\n",
       "<style>\n",
       "    .dataframe thead tr:only-child th {\n",
       "        text-align: right;\n",
       "    }\n",
       "\n",
       "    .dataframe thead th {\n",
       "        text-align: left;\n",
       "    }\n",
       "\n",
       "    .dataframe tbody tr th {\n",
       "        vertical-align: top;\n",
       "    }\n",
       "</style>\n",
       "<table border=\"1\" class=\"dataframe\">\n",
       "  <thead>\n",
       "    <tr style=\"text-align: right;\">\n",
       "      <th></th>\n",
       "      <th>pop</th>\n",
       "      <th>gdp</th>\n",
       "      <th>Number of homicides by firearm</th>\n",
       "      <th>Average total all civilian firearms</th>\n",
       "      <th>Guns/100 inhabitants</th>\n",
       "      <th>Number of mass shootings</th>\n",
       "      <th>shootingspp</th>\n",
       "      <th>civilianpp</th>\n",
       "    </tr>\n",
       "  </thead>\n",
       "  <tbody>\n",
       "    <tr>\n",
       "      <th>count</th>\n",
       "      <td>2.200000e+01</td>\n",
       "      <td>2.200000e+01</td>\n",
       "      <td>22.000000</td>\n",
       "      <td>2.200000e+01</td>\n",
       "      <td>22.000000</td>\n",
       "      <td>22.000000</td>\n",
       "      <td>22.000000</td>\n",
       "      <td>22.000000</td>\n",
       "    </tr>\n",
       "    <tr>\n",
       "      <th>mean</th>\n",
       "      <td>3.967568e+07</td>\n",
       "      <td>1.801258e+12</td>\n",
       "      <td>470.863636</td>\n",
       "      <td>1.628523e+07</td>\n",
       "      <td>24.086364</td>\n",
       "      <td>5.090909</td>\n",
       "      <td>0.000121</td>\n",
       "      <td>0.228950</td>\n",
       "    </tr>\n",
       "    <tr>\n",
       "      <th>std</th>\n",
       "      <td>6.922051e+07</td>\n",
       "      <td>3.528211e+12</td>\n",
       "      <td>1939.821599</td>\n",
       "      <td>5.701791e+07</td>\n",
       "      <td>19.483456</td>\n",
       "      <td>16.411114</td>\n",
       "      <td>0.000165</td>\n",
       "      <td>0.187842</td>\n",
       "    </tr>\n",
       "    <tr>\n",
       "      <th>min</th>\n",
       "      <td>3.207160e+05</td>\n",
       "      <td>1.421858e+10</td>\n",
       "      <td>0.000000</td>\n",
       "      <td>7.000000e+04</td>\n",
       "      <td>0.600000</td>\n",
       "      <td>0.000000</td>\n",
       "      <td>0.000000</td>\n",
       "      <td>0.005563</td>\n",
       "    </tr>\n",
       "    <tr>\n",
       "      <th>25%</th>\n",
       "      <td>5.458371e+06</td>\n",
       "      <td>2.307821e+11</td>\n",
       "      <td>12.000000</td>\n",
       "      <td>6.650000e+05</td>\n",
       "      <td>10.775000</td>\n",
       "      <td>0.000000</td>\n",
       "      <td>0.000000</td>\n",
       "      <td>0.101219</td>\n",
       "    </tr>\n",
       "    <tr>\n",
       "      <th>50%</th>\n",
       "      <td>1.021760e+07</td>\n",
       "      <td>5.050246e+11</td>\n",
       "      <td>29.500000</td>\n",
       "      <td>2.450000e+06</td>\n",
       "      <td>22.550000</td>\n",
       "      <td>1.000000</td>\n",
       "      <td>0.000089</td>\n",
       "      <td>0.218094</td>\n",
       "    </tr>\n",
       "    <tr>\n",
       "      <th>75%</th>\n",
       "      <td>4.459558e+07</td>\n",
       "      <td>1.752765e+12</td>\n",
       "      <td>53.750000</td>\n",
       "      <td>4.225000e+06</td>\n",
       "      <td>31.100000</td>\n",
       "      <td>2.750000</td>\n",
       "      <td>0.000193</td>\n",
       "      <td>0.292945</td>\n",
       "    </tr>\n",
       "    <tr>\n",
       "      <th>max</th>\n",
       "      <td>3.139984e+08</td>\n",
       "      <td>1.615526e+13</td>\n",
       "      <td>9146.000000</td>\n",
       "      <td>2.700000e+08</td>\n",
       "      <td>88.800000</td>\n",
       "      <td>78.000000</td>\n",
       "      <td>0.000681</td>\n",
       "      <td>0.859877</td>\n",
       "    </tr>\n",
       "  </tbody>\n",
       "</table>\n",
       "</div>"
      ],
      "text/plain": [
       "                pop           gdp  Number of homicides by firearm  \\\n",
       "count  2.200000e+01  2.200000e+01                       22.000000   \n",
       "mean   3.967568e+07  1.801258e+12                      470.863636   \n",
       "std    6.922051e+07  3.528211e+12                     1939.821599   \n",
       "min    3.207160e+05  1.421858e+10                        0.000000   \n",
       "25%    5.458371e+06  2.307821e+11                       12.000000   \n",
       "50%    1.021760e+07  5.050246e+11                       29.500000   \n",
       "75%    4.459558e+07  1.752765e+12                       53.750000   \n",
       "max    3.139984e+08  1.615526e+13                     9146.000000   \n",
       "\n",
       "       Average total all civilian firearms  Guns/100 inhabitants  \\\n",
       "count                         2.200000e+01             22.000000   \n",
       "mean                          1.628523e+07             24.086364   \n",
       "std                           5.701791e+07             19.483456   \n",
       "min                           7.000000e+04              0.600000   \n",
       "25%                           6.650000e+05             10.775000   \n",
       "50%                           2.450000e+06             22.550000   \n",
       "75%                           4.225000e+06             31.100000   \n",
       "max                           2.700000e+08             88.800000   \n",
       "\n",
       "       Number of mass shootings  shootingspp  civilianpp  \n",
       "count                 22.000000    22.000000   22.000000  \n",
       "mean                   5.090909     0.000121    0.228950  \n",
       "std                   16.411114     0.000165    0.187842  \n",
       "min                    0.000000     0.000000    0.005563  \n",
       "25%                    0.000000     0.000000    0.101219  \n",
       "50%                    1.000000     0.000089    0.218094  \n",
       "75%                    2.750000     0.000193    0.292945  \n",
       "max                   78.000000     0.000681    0.859877  "
      ]
     },
     "execution_count": 22,
     "metadata": {},
     "output_type": "execute_result"
    }
   ],
   "source": [
    "#THE ABOVE PARAGRAPH MEANS THE INDEPENDENT VARIABLE IS SHOOTINGS DEPENDENT ONE IS CIVILIAN\n",
    "msDf.describe()"
   ]
  },
  {
   "cell_type": "code",
   "execution_count": 23,
   "metadata": {},
   "outputs": [
    {
     "data": {
      "text/html": [
       "<div>\n",
       "<style>\n",
       "    .dataframe thead tr:only-child th {\n",
       "        text-align: right;\n",
       "    }\n",
       "\n",
       "    .dataframe thead th {\n",
       "        text-align: left;\n",
       "    }\n",
       "\n",
       "    .dataframe tbody tr th {\n",
       "        vertical-align: top;\n",
       "    }\n",
       "</style>\n",
       "<table border=\"1\" class=\"dataframe\">\n",
       "  <thead>\n",
       "    <tr style=\"text-align: right;\">\n",
       "      <th></th>\n",
       "      <th>shootingspp</th>\n",
       "      <th>civilianpp</th>\n",
       "    </tr>\n",
       "  </thead>\n",
       "  <tbody>\n",
       "    <tr>\n",
       "      <th>0</th>\n",
       "      <td>1.759924</td>\n",
       "      <td>1.341942</td>\n",
       "    </tr>\n",
       "    <tr>\n",
       "      <th>1</th>\n",
       "      <td>1.186241</td>\n",
       "      <td>2.965602</td>\n",
       "    </tr>\n",
       "    <tr>\n",
       "      <th>2</th>\n",
       "      <td>1.151061</td>\n",
       "      <td>2.863264</td>\n",
       "    </tr>\n",
       "    <tr>\n",
       "      <th>3</th>\n",
       "      <td>2.500981</td>\n",
       "      <td>4.251668</td>\n",
       "    </tr>\n",
       "    <tr>\n",
       "      <th>4</th>\n",
       "      <td>0.870367</td>\n",
       "      <td>3.108454</td>\n",
       "    </tr>\n",
       "    <tr>\n",
       "      <th>5</th>\n",
       "      <td>0.000000</td>\n",
       "      <td>1.162464</td>\n",
       "    </tr>\n",
       "    <tr>\n",
       "      <th>6</th>\n",
       "      <td>0.213798</td>\n",
       "      <td>0.962092</td>\n",
       "    </tr>\n",
       "    <tr>\n",
       "      <th>7</th>\n",
       "      <td>3.694146</td>\n",
       "      <td>4.432975</td>\n",
       "    </tr>\n",
       "    <tr>\n",
       "      <th>8</th>\n",
       "      <td>0.913801</td>\n",
       "      <td>2.893704</td>\n",
       "    </tr>\n",
       "    <tr>\n",
       "      <th>9</th>\n",
       "      <td>0.000000</td>\n",
       "      <td>2.263465</td>\n",
       "    </tr>\n",
       "    <tr>\n",
       "      <th>10</th>\n",
       "      <td>0.000000</td>\n",
       "      <td>0.564496</td>\n",
       "    </tr>\n",
       "    <tr>\n",
       "      <th>11</th>\n",
       "      <td>0.000000</td>\n",
       "      <td>0.784844</td>\n",
       "    </tr>\n",
       "    <tr>\n",
       "      <th>12</th>\n",
       "      <td>0.000000</td>\n",
       "      <td>2.806221</td>\n",
       "    </tr>\n",
       "    <tr>\n",
       "      <th>13</th>\n",
       "      <td>0.000000</td>\n",
       "      <td>1.175686</td>\n",
       "    </tr>\n",
       "    <tr>\n",
       "      <th>14</th>\n",
       "      <td>0.000000</td>\n",
       "      <td>0.055630</td>\n",
       "    </tr>\n",
       "    <tr>\n",
       "      <th>15</th>\n",
       "      <td>0.000000</td>\n",
       "      <td>1.318401</td>\n",
       "    </tr>\n",
       "    <tr>\n",
       "      <th>16</th>\n",
       "      <td>1.992598</td>\n",
       "      <td>2.789638</td>\n",
       "    </tr>\n",
       "    <tr>\n",
       "      <th>17</th>\n",
       "      <td>6.805653</td>\n",
       "      <td>2.098410</td>\n",
       "    </tr>\n",
       "    <tr>\n",
       "      <th>18</th>\n",
       "      <td>0.000000</td>\n",
       "      <td>0.133988</td>\n",
       "    </tr>\n",
       "    <tr>\n",
       "      <th>19</th>\n",
       "      <td>0.951036</td>\n",
       "      <td>0.855933</td>\n",
       "    </tr>\n",
       "    <tr>\n",
       "      <th>20</th>\n",
       "      <td>2.100978</td>\n",
       "      <td>2.941370</td>\n",
       "    </tr>\n",
       "    <tr>\n",
       "      <th>21</th>\n",
       "      <td>2.484089</td>\n",
       "      <td>8.598771</td>\n",
       "    </tr>\n",
       "  </tbody>\n",
       "</table>\n",
       "</div>"
      ],
      "text/plain": [
       "    shootingspp  civilianpp\n",
       "0      1.759924    1.341942\n",
       "1      1.186241    2.965602\n",
       "2      1.151061    2.863264\n",
       "3      2.500981    4.251668\n",
       "4      0.870367    3.108454\n",
       "5      0.000000    1.162464\n",
       "6      0.213798    0.962092\n",
       "7      3.694146    4.432975\n",
       "8      0.913801    2.893704\n",
       "9      0.000000    2.263465\n",
       "10     0.000000    0.564496\n",
       "11     0.000000    0.784844\n",
       "12     0.000000    2.806221\n",
       "13     0.000000    1.175686\n",
       "14     0.000000    0.055630\n",
       "15     0.000000    1.318401\n",
       "16     1.992598    2.789638\n",
       "17     6.805653    2.098410\n",
       "18     0.000000    0.133988\n",
       "19     0.951036    0.855933\n",
       "20     2.100978    2.941370\n",
       "21     2.484089    8.598771"
      ]
     },
     "execution_count": 23,
     "metadata": {},
     "output_type": "execute_result"
    }
   ],
   "source": [
    "# IDENTIFY THE MEAN OF THE DATA\n",
    "\n",
    "msDf[\"civilianpp\"]=(msDf[\"civilianpp\"]*1e1)\n",
    "msDf[\"shootingspp\"]=(msDf[\"shootingspp\"] * 1e4)\n",
    "\n",
    "my_df=msDf[['shootingspp', 'civilianpp']]\n",
    "\n",
    "my_df"
   ]
  },
  {
   "cell_type": "code",
   "execution_count": 24,
   "metadata": {
    "ExecuteTime": {
     "end_time": "2017-10-12T16:35:12.472517",
     "start_time": "2017-10-12T16:35:11.345016"
    }
   },
   "outputs": [
    {
     "name": "stdout",
     "output_type": "stream",
     "text": [
      "[ 1.75992401  1.18624089  1.15106108  2.50098132  0.87036722  0.\n",
      "  0.21379831  3.69414613  0.91380128  0.          0.          0.          0.\n",
      "  0.          0.          0.          1.99259829  6.80565323  0.\n",
      "  0.95103646  2.10097849  2.48408926] [ 1.34194206  2.96560222  2.86326445  4.25166825  3.10845436  1.16246379\n",
      "  0.96209238  4.43297535  2.89370405  2.26346538  0.56449553  0.78484431\n",
      "  2.80622108  1.1756858   0.05562999  1.31840149  2.78963761  2.09840975\n",
      "  0.13398781  0.85593281  2.94136988  8.59877051]\n"
     ]
    }
   ],
   "source": [
    "#Let's make each column an array\n",
    "\n",
    "shootings=(my_df.shootingspp.values)\n",
    "civilian=(my_df.civilianpp.values)\n",
    "\n",
    "print(shootings, civilian)"
   ]
  },
  {
   "cell_type": "code",
   "execution_count": 25,
   "metadata": {
    "collapsed": true
   },
   "outputs": [],
   "source": [
    "from __future__ import print_function, division\n",
    "import sys\n",
    "import os\n",
    "import numpy \n",
    "import pylab as pl\n",
    "import pandas as pd\n",
    "from scipy import stats\n",
    "from scipy.optimize import minimize\n",
    "import statsmodels.api as sm\n",
    "import json\n",
    "import os\n"
   ]
  },
  {
   "cell_type": "code",
   "execution_count": 26,
   "metadata": {
    "scrolled": true
   },
   "outputs": [
    {
     "data": {
      "text/plain": [
       "      fun: 45.59286837138717\n",
       " hess_inv: array([[ 0.00674835, -0.01545106],\n",
       "       [-0.01545106,  0.05810508]])\n",
       "      jac: array([  9.53674316e-07,   4.76837158e-07])\n",
       "  message: 'Optimization terminated successfully.'\n",
       "     nfev: 36\n",
       "      nit: 5\n",
       "     njev: 9\n",
       "   status: 0\n",
       "  success: True\n",
       "        x: array([ 0.39106003,  0.31488028])"
      ]
     },
     "execution_count": 26,
     "metadata": {},
     "output_type": "execute_result"
    }
   ],
   "source": [
    "#pl.plot(newx, np.poly1d(np.ployfit(x, y, 1))(newx)\n",
    "\n",
    "def line (x, pars):\n",
    "    '''Creates the dependent variables of a line\n",
    "    Arguments:\n",
    "        x: series, independent variable\n",
    "        pars: series of 2 paramters, slope and intercept\n",
    "    Return:\n",
    "        dependent variable array\n",
    "    '''\n",
    "    if not isinstance(x, numpy.ndarray) and not isinstance(x, int) \\\n",
    "        and not isinstance(x, float):\n",
    "        print ('You must pass an array or a single number for the dependent variable')\n",
    "    if not pars.shape == (2,):\n",
    "        print ('You must pass a 1D series of 2 parameters in pars')\n",
    "    a, b = pars\n",
    "    y = a * x + b\n",
    "    #this would be a function that creates a line given parameters, \n",
    "    #like we did in class\n",
    "    ...\n",
    "    return y\n",
    "\n",
    "def residuals(pars, data, model, error=None):\n",
    "    '''Calculates the residuals between model and data\n",
    "    Arguments:\n",
    "        data: series - 1D array of datapoints\n",
    "        model: series - 1D array of model predictions\n",
    "        error (optional): series - 1D array of errors on data \n",
    "    Returns:\n",
    "        sum of residuals square\n",
    "    '''\n",
    "    residuals = (line(data, pars) - model)**2\n",
    "    if error:\n",
    "        residuals = residuals / error**2\n",
    "    \n",
    "    return residuals.sum()\n",
    "\n",
    "p0 = (0.5,1000)\n",
    "\n",
    "#here the model is the female income given the male income: a regression line\n",
    "##important!! never work with very large numbers! always try to reduce your numbers to ~unity\n",
    "result = minimize(residuals, p0, args=(civilian, shootings))\n",
    "result"
   ]
  },
  {
   "cell_type": "code",
   "execution_count": 27,
   "metadata": {},
   "outputs": [
    {
     "data": {
      "image/png": "[encoded data removed]",
      "text/plain": [
       "<matplotlib.figure.Figure at 0x121bb29e8>"
      ]
     },
     "metadata": {},
     "output_type": "display_data"
    },
    {
     "name": "stdout",
     "output_type": "stream",
     "text": [
      "Number of mass shootings vs Average total all civilian firearms, errors represent Poisson statistics.\n",
      "The datapoint to the top right (plotted with red color) of the plot is the USA\n"
     ]
    }
   ],
   "source": [
    "fig = pl.figure(figsize=(10,5)) \n",
    "ax = fig.add_subplot(111)\n",
    "\n",
    "\n",
    "pl.plot(civilian, civilian* result.x[0] + result.x[1], label=\"best fit line: %.1f x + %.1fe4\"\\\n",
    "       %(result.x[0], result.x[1]))\n",
    "pl.legend(loc='best')\n",
    "\n",
    "\n",
    "\n",
    "#Exclude the US note that it is the last row in the dataframe\n",
    "#so I am plotting UP to length-1 first \n",
    "\n",
    "myData=my_df[[\"shootingspp\", \"civilianpp\"]]\n",
    "vals=myData.values\n",
    "length=len(vals)\n",
    "scatter = ax.scatter(vals[:(length-1), 1], vals[:(length-1), 0], color='blue')\n",
    "\n",
    "#I am now plotting the US with RED color\n",
    "ax.scatter(vals[(length-1), 1], vals[(length-1), 0],color='red')\n",
    "\n",
    "\n",
    "\n",
    "ax.set_ylabel(\"Number of mass shootings\")\n",
    "ax.set_xlabel(\"Average total all civilian firearms\")\n",
    "ax.set_ylim()\n",
    "\n",
    "pl.show()\n",
    "\n",
    "print (\"Number of mass shootings vs Average total all civilian firearms, \" + \n",
    "       \"errors represent Poisson statistics.\\n\" + \n",
    "       \"The datapoint to the top right (plotted with red color) of the plot is the USA\")\n",
    "\n",
    "\n",
    "\n"
   ]
  },
  {
   "cell_type": "code",
   "execution_count": 28,
   "metadata": {},
   "outputs": [
    {
     "data": {
      "text/plain": [
       "array([ 0.31488026,  0.39106003])"
      ]
     },
     "execution_count": 28,
     "metadata": {},
     "output_type": "execute_result"
    }
   ],
   "source": [
    "Y = shootings\n",
    "X = civilian\n",
    "X = sm.add_constant(X)\n",
    "model = sm.OLS(Y,X)\n",
    "results = model.fit()\n",
    "a=results.params\n",
    "a"
   ]
  },
  {
   "cell_type": "code",
   "execution_count": 29,
   "metadata": {},
   "outputs": [],
   "source": [
    "errors = model.fit().resid\n",
    "#to use later in the wls model"
   ]
  },
  {
   "cell_type": "code",
   "execution_count": 30,
   "metadata": {},
   "outputs": [
    {
     "data": {
      "image/png": "[encoded data removed]",
      "text/plain": [
       "<matplotlib.figure.Figure at 0x121d03c88>"
      ]
     },
     "metadata": {},
     "output_type": "display_data"
    },
    {
     "name": "stdout",
     "output_type": "stream",
     "text": [
      "Number of mass shootings vs Average total all civilian firearms, errors represent Poisson statistics.\n",
      "The datapoint to the top right (plotted with red color) of the plot is the USA\n"
     ]
    }
   ],
   "source": [
    "fig = pl.figure(figsize=(10,5)) \n",
    "ax = fig.add_subplot(111)\n",
    "\n",
    "\n",
    "pl.plot(civilian, civilian* a[0] + a[1], label=\"OLS fit\")\n",
    "pl.legend(loc=2)\n",
    "\n",
    "\n",
    "\n",
    "#Exclude the US note that it is the last row in the dataframe\n",
    "#so I am plotting UP to length-1 first \n",
    "\n",
    "myData=my_df[[\"shootingspp\", \"civilianpp\"]]\n",
    "vals=myData.values\n",
    "length=len(vals)\n",
    "scatter = ax.scatter(vals[:(length-1), 1], vals[:(length-1), 0], color='blue')\n",
    "\n",
    "#I am now plotting the US with RED color\n",
    "ax.scatter(vals[(length-1), 1], vals[(length-1), 0],color='red')\n",
    "\n",
    "\n",
    "\n",
    "ax.set_ylabel(\"Number of mass shootings\")\n",
    "ax.set_xlabel(\"Average total all civilian firearms\")\n",
    "ax.set_ylim()\n",
    "\n",
    "pl.show()\n",
    "\n",
    "print (\"Number of mass shootings vs Average total all civilian firearms, \" + \n",
    "       \"errors represent Poisson statistics.\\n\" + \n",
    "       \"The datapoint to the top right (plotted with red color) of the plot is the USA\")\n",
    "\n",
    "\n",
    "\n"
   ]
  },
  {
   "cell_type": "code",
   "execution_count": 31,
   "metadata": {},
   "outputs": [],
   "source": [
    "#weight = 1/np.sqrt(shootings)\n",
    "#weight\n",
    "#We decided to calculate the errors through residuals of the Y from OLS. "
   ]
  },
  {
   "cell_type": "code",
   "execution_count": 32,
   "metadata": {},
   "outputs": [
    {
     "data": {
      "text/plain": [
       "array([ 1.0424226 ,  1.86220102,  1.87802959,  1.38218152,  1.23081672,\n",
       "        1.13999566,  1.44742533,  0.77951383,  1.37013174,  0.9128591 ,\n",
       "        1.36636517,  1.26816019,  0.84147151,  1.13618466,  1.72353622,\n",
       "        1.09734226,  1.30543158,  0.41995428,  1.6500717 ,  1.82139064,\n",
       "        1.25407648,  0.91538157])"
      ]
     },
     "execution_count": 32,
     "metadata": {},
     "output_type": "execute_result"
    }
   ],
   "source": [
    "# delete if doesn't work\n",
    "weight = 1/np.sqrt(abs(errors))\n",
    "weight"
   ]
  },
  {
   "cell_type": "code",
   "execution_count": 33,
   "metadata": {},
   "outputs": [
    {
     "data": {
      "text/plain": [
       "array([ 1.0424226 ,  1.86220102,  1.87802959,  1.38218152,  1.23081672,\n",
       "        1.13999566,  1.44742533,  0.77951383,  1.37013174,  0.9128591 ,\n",
       "        1.36636517,  1.26816019,  0.84147151,  1.13618466,  1.72353622,\n",
       "        1.09734226,  1.30543158,  0.41995428,  1.6500717 ,  1.82139064,\n",
       "        1.25407648,  0.91538157])"
      ]
     },
     "execution_count": 33,
     "metadata": {},
     "output_type": "execute_result"
    }
   ],
   "source": [
    "for i in range (len (weight)):\n",
    "    if weight[i] == inf:\n",
    "        weight[i] = 0\n",
    "        \n",
    "weight"
   ]
  },
  {
   "cell_type": "code",
   "execution_count": 34,
   "metadata": {},
   "outputs": [
    {
     "data": {
      "text/plain": [
       "array([ 0.10580686,  0.41182537])"
      ]
     },
     "execution_count": 34,
     "metadata": {},
     "output_type": "execute_result"
    }
   ],
   "source": [
    "X = sm.add_constant(X)\n",
    "wls_model = sm.WLS(Y,X,weights=weight)\n",
    "results = wls_model.fit()\n",
    "b=results.params\n",
    "b"
   ]
  },
  {
   "cell_type": "code",
   "execution_count": 35,
   "metadata": {
    "scrolled": true
   },
   "outputs": [
    {
     "data": {
      "image/png": "[encoded data removed]",
      "text/plain": [
       "<matplotlib.figure.Figure at 0x121d1cf60>"
      ]
     },
     "metadata": {},
     "output_type": "display_data"
    },
    {
     "name": "stdout",
     "output_type": "stream",
     "text": [
      "Number of mass shootings vs Average total all civilian firearms, errors represent Poisson statistics.\n",
      "The datapoint to the top right (plotted with red color) of the plot is the USA\n"
     ]
    }
   ],
   "source": [
    "fig = pl.figure(figsize=(10,5)) \n",
    "ax = fig.add_subplot(111)\n",
    "\n",
    "\n",
    "pl.plot(civilian, civilian* b[0] + b[1], label=\"WLS fit\")\n",
    "pl.legend(loc=2)\n",
    "\n",
    "\n",
    "\n",
    "#Exclude the US note that it is the last row in the dataframe\n",
    "#so I am plotting UP to length-1 first \n",
    "\n",
    "myData=my_df[[\"shootingspp\", \"civilianpp\"]]\n",
    "vals=myData.values\n",
    "length=len(vals)\n",
    "scatter = ax.scatter(vals[:(length-1), 1], vals[:(length-1), 0], color='blue')\n",
    "\n",
    "#I am now plotting the US with RED color\n",
    "ax.scatter(vals[(length-1), 1], vals[(length-1), 0],color='red')\n",
    "\n",
    "\n",
    "\n",
    "ax.set_ylabel(\"Number of mass shootings\")\n",
    "ax.set_xlabel(\"Average total all civilian firearms\")\n",
    "ax.set_ylim()\n",
    "\n",
    "pl.show()\n",
    "\n",
    "print (\"Number of mass shootings vs Average total all civilian firearms, \" + \n",
    "       \"errors represent Poisson statistics.\\n\" + \n",
    "       \"The datapoint to the top right (plotted with red color) of the plot is the USA\")\n",
    "\n",
    "\n",
    "\n"
   ]
  },
  {
   "cell_type": "code",
   "execution_count": 36,
   "metadata": {},
   "outputs": [
    {
     "data": {
      "text/plain": [
       "<matplotlib.text.Text at 0x11d869a58>"
      ]
     },
     "execution_count": 36,
     "metadata": {},
     "output_type": "execute_result"
    },
    {
     "data": {
      "image/png": "[encoded data removed]",
      "text/plain": [
       "<matplotlib.figure.Figure at 0x121c2c438>"
      ]
     },
     "metadata": {},
     "output_type": "display_data"
    }
   ],
   "source": [
    "pl.figure()\n",
    "import seaborn as sns\n",
    "sns.regplot(x='civilianpp',  y='shootingspp',data=myData)\n",
    "\n",
    "pl.ylabel(\"Number of mass shootings per person\")\n",
    "pl.xlabel(\"Average total civilian firearms per person\")\n"
   ]
  },
  {
   "cell_type": "code",
   "execution_count": 37,
   "metadata": {},
   "outputs": [],
   "source": [
    "model2= model.fit()"
   ]
  },
  {
   "cell_type": "code",
   "execution_count": 38,
   "metadata": {},
   "outputs": [
    {
     "data": {
      "image/png": "[encoded data removed]",
      "text/plain": [
       "<matplotlib.figure.Figure at 0x11e03bb38>"
      ]
     },
     "execution_count": 38,
     "metadata": {},
     "output_type": "execute_result"
    },
    {
     "data": {
      "image/png": "[encoded data removed]",
      "text/plain": [
       "<matplotlib.figure.Figure at 0x11e03bb38>"
      ]
     },
     "metadata": {},
     "output_type": "display_data"
    }
   ],
   "source": [
    "sm.graphics.influence_plot(model2, alpha=0.05, criterion=\"cooks\")"
   ]
  },
  {
   "cell_type": "markdown",
   "metadata": {
    "ExecuteTime": {
     "end_time": "2017-10-12T16:21:08.019663",
     "start_time": "2017-10-12T16:21:08.010876"
    }
   },
   "source": [
    "## Extra credit: calculate the confidence interval by hand and also plot them \n",
    "you can use pylab.fill_between(x, yfit - ci, yfit + ci, alpha=0.5)"
   ]
  },
  {
   "cell_type": "markdown",
   "metadata": {},
   "source": [
    "**Confidence intervals: **\n",
    "there are three type of intervals in a linear regression, plot any one of them all three if you want - how do they compare to the seaborn plot?:\n",
    "\n",
    "1) Confidence intervals for the parameters slope and intercept\n",
    "\n",
    "2) Confidence interval for the average y value\n",
    "\n",
    "3) Prediction interval for a single y value"
   ]
  },
  {
   "cell_type": "markdown",
   "metadata": {},
   "source": [
    "1) __confidence interval of the  model parameters slope and intercept:__\n",
    "define sigma as the sum of the residuals over the square root of number n of observations. \n",
    "\n",
    "sigma: ÏƒÌ‚ =sqrt(Sum((Yoberved_iâˆ’Ypredicted_i)^2)/n)\n",
    "\n",
    "where the sum is over all observations\n",
    "\n",
    "Define t_alpha/2,n-2 the t statistics at (1-alpha/2) for a t distribution with n-2 degrees of freedom (you can calculate it with scipy\n",
    "tp = sp.stats.t.ppf(0.975, n-2)\n",
    "\n"
   ]
  },
  {
   "cell_type": "markdown",
   "metadata": {
    "ExecuteTime": {
     "end_time": "2017-10-12T15:42:26.836222",
     "start_time": "2017-10-12T15:42:26.819963"
    }
   },
   "source": [
    "from IPython.display import Image\n",
    "Image(filename=\"../Lab5_fb55/confidence_intervals_regression.png\")"
   ]
  },
  {
   "cell_type": "markdown",
   "metadata": {
    "ExecuteTime": {
     "end_time": "2017-10-12T15:54:20.748008",
     "start_time": "2017-10-12T15:54:20.736381"
    }
   },
   "source": [
    "from IPython.display import Image\n",
    "Image(filename=\"../Lab5_fb55/confidence_intervals_regression2.png\")"
   ]
  },
  {
   "cell_type": "markdown",
   "metadata": {},
   "source": [
    "[proof](https://onlinecourses.science.psu.edu/stat414/node/280)"
   ]
  },
  {
   "cell_type": "markdown",
   "metadata": {},
   "source": [
    "2) **A confidence interval for E(y | x) , the expected (average) value of y for a given x_**\n",
    "\n",
    "define s: residual standard error sy = sqrt(Sum((y_observed-y_predicted)^2)/(n-2))\n",
    "\n",
    "(note: n-2 is the degrees of freedom of the problem: observations - number of parameters - 1)\n",
    "\n",
    "the confidence interval for a given y(x*) is: \n",
    "\n",
    "y_predicted(x*) +/- t_(alpha/2)(n-2) * sy * sqrt( 1/n + (x* - mean(x)^2) / sum((x* - mean(x)^2)"
   ]
  },
  {
   "cell_type": "markdown",
   "metadata": {
    "ExecuteTime": {
     "end_time": "2017-10-12T16:09:14.173143",
     "start_time": "2017-10-12T16:09:14.161088"
    }
   },
   "source": [
    "from IPython.display import Image\n",
    "Image(filename=\"../Lab5_fb55/ciY.png\")"
   ]
  },
  {
   "cell_type": "markdown",
   "metadata": {},
   "source": [
    "3) **Confidence intervals for average y (predicted) values**\n",
    "\n",
    "y_predicted(x*) +/- t_(n-2) * sy * sqrt( 1 + 1/n + (x* - mean(x)^2) / sum((x* - mean(x)^2)\n",
    "\n",
    "very similar, but note the +1 in the square root"
   ]
  },
  {
   "cell_type": "markdown",
   "metadata": {
    "ExecuteTime": {
     "end_time": "2017-10-12T16:08:46.077157",
     "start_time": "2017-10-12T16:08:46.067407"
    }
   },
   "source": [
    "from IPython.display import Image\n",
    "Image(filename=\"../Lab5_fb55/ciYaverage.png\")"
   ]
  },
  {
   "cell_type": "code",
   "execution_count": null,
   "metadata": {
    "ExecuteTime": {
     "end_time": "2017-10-12T16:36:39.238967",
     "start_time": "2017-10-12T16:36:38.688004"
    }
   },
   "outputs": [],
   "source": []
  },
  {
   "cell_type": "markdown",
   "metadata": {},
   "source": [
    "## Use the stsatsmodels.gaphics package to plot the influence plot. \n",
    "Read the package documentation to learn how to read this plot and extract the countries with the highest influence\n",
    "\n",
    "This is the topic of this week's assigned reading, so make sure you do the reading before you do this step. It will help you interpret the plot."
   ]
  },
  {
   "cell_type": "markdown",
   "metadata": {
    "ExecuteTime": {
     "end_time": "2017-10-11T07:46:21.766085",
     "start_time": "2017-10-11T07:46:21.412498"
    }
   },
   "source": [
    "THIS IS DONE ABOVE... "
   ]
  },
  {
   "cell_type": "markdown",
   "metadata": {},
   "source": [
    "## Extra credit: calculate from scratch the stanrdardized residuals and the H leverage for the WLS model and discuss if there are any differences"
   ]
  },
  {
   "cell_type": "markdown",
   "metadata": {},
   "source": [
    "## Discuss your findings"
   ]
  },
  {
   "cell_type": "markdown",
   "metadata": {
    "collapsed": true
   },
   "source": [
    "Our exploratory plots tell us that when plotting GDP vs mass shooting, the U.S. stands as a clear outlier, having the highest GDP and the highest number of mass shootings. \n",
    "\n",
    "Our regressions are looking at the correlation between mass shootings and average number of firearms by civilians per person. Through all the three types of regression (best fit, OLS, WLS) we find a beta positive slope -- there is positive correlation between the average number of fire arms and the average number of mass shootings per person.\n",
    "\n",
    "Importantly, when we included the inverse-variance weights into the regression model, the slope of the fitted line decreased three fold. This better characterizes the relationship between firearm ownership and mass shootings by downweighting the influence of the higher-variance data point 21 (US). The influence plots show the large influence point 17 and 21 have on the spread of the data."
   ]
  },
  {
   "cell_type": "code",
   "execution_count": null,
   "metadata": {
    "collapsed": true
   },
   "outputs": [],
   "source": []
  }
 ],
 "metadata": {
  "anaconda-cloud": {},
  "kernelspec": {
   "display_name": "Python 3",
   "language": "python",
   "name": "python3"
  },
  "language_info": {
   "codemirror_mode": {
    "name": "ipython",
    "version": 3
   },
   "file_extension": ".py",
   "mimetype": "text/x-python",
   "name": "python",
   "nbconvert_exporter": "python",
   "pygments_lexer": "ipython3",
   "version": "3.6.1"
  },
  "latex_envs": {
   "LaTeX_envs_menu_present": true,
   "bibliofile": "biblio.bib",
   "cite_by": "apalike",
   "current_citInitial": 1,
   "eqLabelWithNumbers": true,
   "eqNumInitial": 1,
   "hotkeys": {
    "equation": "Ctrl-E",
    "itemize": "Ctrl-I"
   },
   "labels_anchors": false,
   "latex_user_defs": false,
   "report_style_numbering": false,
   "user_envs_cfg": false
  },
  "toc": {
   "colors": {
    "hover_highlight": "#DAA520",
    "running_highlight": "#FF0000",
    "selected_highlight": "#FFD700"
   },
   "moveMenuLeft": true,
   "nav_menu": {
    "height": "13px",
    "width": "251px"
   },
   "navigate_menu": true,
   "number_sections": true,
   "sideBar": true,
   "threshold": 4,
   "toc_cell": true,
   "toc_section_display": "block",
   "toc_window_display": true
  }
 },
 "nbformat": 4,
 "nbformat_minor": 1
}
