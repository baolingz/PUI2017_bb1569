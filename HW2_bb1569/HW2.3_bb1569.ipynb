{
 "cells": [
  {
   "cell_type": "code",
   "execution_count": 4,
   "metadata": {
    "collapsed": false
   },
   "outputs": [],
   "source": [
    "from __future__ import division, print_function\n",
    "__author__= \"bb CUSP 2017\"\n",
    "import os\n",
    "import numpy as np\n",
    "import pylab as pl\n",
    "import pandas as pd"
   ]
  },
  {
   "cell_type": "code",
   "execution_count": 5,
   "metadata": {
    "collapsed": true
   },
   "outputs": [],
   "source": [
    "PUIdata=os.getenv(\"PUIDATA\")"
   ]
  },
  {
   "cell_type": "code",
   "execution_count": 6,
   "metadata": {
    "collapsed": false
   },
   "outputs": [
    {
     "name": "stdout",
     "output_type": "stream",
     "text": [
      "/home/cusp/bb1569/PUIdata\n"
     ]
    }
   ],
   "source": [
    "print(PUIdata)"
   ]
  },
  {
   "cell_type": "code",
   "execution_count": 7,
   "metadata": {
    "collapsed": false
   },
   "outputs": [],
   "source": [
    "DFData=os.getenv(\"DFDATA\")"
   ]
  },
  {
   "cell_type": "code",
   "execution_count": 8,
   "metadata": {
    "collapsed": false
   },
   "outputs": [
    {
     "name": "stdout",
     "output_type": "stream",
     "text": [
      "/gws/open/NYCOpenData/nycopendata/data\n"
     ]
    }
   ],
   "source": [
    "print(DFData)"
   ]
  },
  {
   "cell_type": "code",
   "execution_count": 29,
   "metadata": {
    "collapsed": false
   },
   "outputs": [
    {
     "name": "stdout",
     "output_type": "stream",
     "text": [
      "6m3u-8rbh\r\n"
     ]
    }
   ],
   "source": [
    "!ls $DFDATA/6m3u-8rbh/1418062733/6m3u-8rbh"
   ]
  },
  {
   "cell_type": "code",
   "execution_count": 30,
   "metadata": {
    "collapsed": false
   },
   "outputs": [],
   "source": [
    "link=(DFData+\"/6m3u-8rbh"
   ]
  },
  {
   "cell_type": "code",
   "execution_count": 31,
   "metadata": {
    "collapsed": false
   },
   "outputs": [],
   "source": [
    "data=pd.read_csv(link)"
   ]
  },
  {
   "cell_type": "code",
   "execution_count": null,
   "metadata": {
    "collapsed": false
   },
   "outputs": [],
   "source": []
  },
  {
   "cell_type": "code",
   "execution_count": 32,
   "metadata": {
    "collapsed": false
   },
   "outputs": [
    {
     "data": {
      "text/plain": [
       "<bound method DataFrame.head of                                Upcoming Project Name  \\\n",
       "0   HS REPLACEMENT @ 1211 SOUTHERN BOULEVARD - BRONX   \n",
       "1              PRE-K CENTER @1434 OGDEN AVENUE-BRONX   \n",
       "2               PRE-K CENTER@ WEBSTER AVENUE - BRONX   \n",
       "3                          DOCK ST CAMPUS - BROOKLYN   \n",
       "4                          DOCK ST CAMPUS - BROOKLYN   \n",
       "5                                I.S. 280 - BROOKLYN   \n",
       "6               PRE-K CENTER @ 5TH AVENUE - BROOKLYN   \n",
       "7              PRE-K CENTER @ 71ST STREET - BROOKLYN   \n",
       "8                                        ISHS @ M837   \n",
       "9           NEW YORK HARBOR SCHOOL ANNEX - MANHATTAN   \n",
       "10       PRE-K CENTER @ LAFAYETTE STREET - MANHATTAN   \n",
       "11                        I.S. 125 ADDITION - QUEENS   \n",
       "12                         P.S. 24 ADDITION - QUEENS   \n",
       "13                                 P.S. 332 - QUEENS   \n",
       "14                                 P.S. 335 - QUEENS   \n",
       "15                    P.S./I.S. 49 ADDITION - QUEENS   \n",
       "16          CURTIS HIGH SCHOOL ANNEX - STATEN ISLAND   \n",
       "17                         CURTIS HS - STATEN ISLAND   \n",
       "\n",
       "   Upcoming Project Borough   Upcoming Project Geographic District  \\\n",
       "0                      BRONX                                    12   \n",
       "1                      BRONX                                     9   \n",
       "2                      BRONX                                    10   \n",
       "3                   BROOKLYN                                    13   \n",
       "4                   BROOKLYN                                    13   \n",
       "5                   BROOKLYN                                    15   \n",
       "6                   BROOKLYN                                    20   \n",
       "7                   BROOKLYN                                    20   \n",
       "8                  MANHATTAN                                     3   \n",
       "9                  MANHATTAN                                     2   \n",
       "10                 MANHATTAN                                     2   \n",
       "11                    QUEENS                                    24   \n",
       "12                    QUEENS                                    25   \n",
       "13                    QUEENS                                    26   \n",
       "14                    QUEENS                                    27   \n",
       "15                    QUEENS                                    24   \n",
       "16             STATEN ISLAND                                    31   \n",
       "17             STATEN ISLAND                                    31   \n",
       "\n",
       "   Upcoming Project Description Upcoming Project Budget Range  \\\n",
       "0                         Lease                     3 M - 4 M   \n",
       "1                         Lease                     6 M - 7 M   \n",
       "2                         Lease                     0   - 1 M   \n",
       "3                         Lease                     0   - 1 M   \n",
       "4                           New                    15 M - 20M   \n",
       "5                         Lease                    20 M - 30M   \n",
       "6                         Lease                     0   - 1 M   \n",
       "7                         Lease                     0   - 1 M   \n",
       "8                         Lease                    15 M - 20M   \n",
       "9                         Lease                    20 M - 30M   \n",
       "10                        Lease                     0   - 1 M   \n",
       "11                     Addition                     40 M OVER   \n",
       "12                         Demo                     1 M - 2 M   \n",
       "13                          New                     40 M OVER   \n",
       "14                          New                     40 M OVER   \n",
       "15                     Addition                    20 M - 30M   \n",
       "16                         Demo                     0   - 1 M   \n",
       "17                     Addition                     40 M OVER   \n",
       "\n",
       "   Upcoming Project Design Completion Date Upcoming Project Category  \\\n",
       "0                                  2015/04                    Leases   \n",
       "1                                  2015/02                    Leases   \n",
       "2                                  2015/05                    Leases   \n",
       "3                                  2015/04               New Schools   \n",
       "4                                  2015/04               New Schools   \n",
       "5                                  2015/05                    Leases   \n",
       "6                                  2015/04                    Leases   \n",
       "7                                  2015/04                    Leases   \n",
       "8                                  2015/05                    Leases   \n",
       "9                                  2015/05                    Leases   \n",
       "10                                 2015/05                    Leases   \n",
       "11                                 2015/04                 Additions   \n",
       "12                                 2015/03                      Site   \n",
       "13                                 2015/03               New Schools   \n",
       "14                                 2015/02               New Schools   \n",
       "15                                 2015/05                 Additions   \n",
       "16                                 2015/03                      Site   \n",
       "17                                 2015/05                 Additions   \n",
       "\n",
       "   Upcoming Project Status   Upcoming Project Square Footage  \\\n",
       "0                    Design                            14000   \n",
       "1                    Design                            11000   \n",
       "2                     Scope                                0   \n",
       "3                    Design                                0   \n",
       "4                    Design                            45642   \n",
       "5                    Design                            92000   \n",
       "6                    Design                                0   \n",
       "7                    Design                                0   \n",
       "8                    Design                            76000   \n",
       "9                    Design                            33605   \n",
       "10                   Design                                0   \n",
       "11                   Design                            68000   \n",
       "12                   Design                                0   \n",
       "13                   Design                            80497   \n",
       "14                   Design                            83907   \n",
       "15                   Design                            32247   \n",
       "16                   Design                             3000   \n",
       "17                   Design                            37657   \n",
       "\n",
       "    Upcoming Project Seat Count  \n",
       "0                           150  \n",
       "1                            72  \n",
       "2                            90  \n",
       "3                            72  \n",
       "4                           333  \n",
       "5                           476  \n",
       "6                            18  \n",
       "7                            90  \n",
       "8                           746  \n",
       "9                           262  \n",
       "10                           36  \n",
       "11                          728  \n",
       "12                            0  \n",
       "13                          468  \n",
       "14                          516  \n",
       "15                          333  \n",
       "16                            0  \n",
       "17                          345  >"
      ]
     },
     "execution_count": 32,
     "metadata": {},
     "output_type": "execute_result"
    }
   ],
   "source": []
  },
  {
   "cell_type": "code",
   "execution_count": null,
   "metadata": {
    "collapsed": true
   },
   "outputs": [],
   "source": []
  }
 ],
 "metadata": {
  "kernelspec": {
   "display_name": "PUI2016_Python2",
   "language": "python",
   "name": "pui2016_python2"
  },
  "language_info": {
   "codemirror_mode": {
    "name": "ipython",
    "version": 2
   },
   "file_extension": ".py",
   "mimetype": "text/x-python",
   "name": "python",
   "nbconvert_exporter": "python",
   "pygments_lexer": "ipython2",
   "version": "2.7.12"
  }
 },
 "nbformat": 4,
 "nbformat_minor": 0
}
