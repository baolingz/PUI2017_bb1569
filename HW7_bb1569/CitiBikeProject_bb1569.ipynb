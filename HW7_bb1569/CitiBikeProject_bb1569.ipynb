{
 "cells": [
  {
   "cell_type": "markdown",
   "metadata": {},
   "source": [
    "Written by Gokmen Dedemen (gd1097) and modified by Bianca Brusco (bb1569)"
   ]
  },
  {
   "cell_type": "code",
   "execution_count": 1,
   "metadata": {},
   "outputs": [
    {
     "name": "stdout",
     "output_type": "stream",
     "text": [
      "Populating the interactive namespace from numpy and matplotlib\n"
     ]
    }
   ],
   "source": [
    "from __future__  import print_function, division\n",
    "import requests, zipfile,io\n",
    "from io import StringIO\n",
    "from zipfile import ZipFile\n",
    "from urllib.request import urlopen\n",
    "import pandas as pd\n",
    "import pylab as pl\n",
    "import seaborn as sns\n",
    "import numpy as np\n",
    "%pylab inline\n",
    "\n",
    "#MY REFERENCE:\n",
    "#https://stac koverflow.com/questions/9419162/python-download-returned-zip-file-from-url\n",
    "def getData(datestring):\n",
    "    \n",
    "    #datestring=\"201501\"\n",
    "    zip_file_url = (\"https://s3.amazonaws.com/tripdata/\" + datestring + \"-citibike-tripdata.zip\")\n",
    "    r = requests.get(zip_file_url)\n",
    "    z = zipfile.ZipFile(io.BytesIO(r.content))\n",
    "    z.extractall()\n",
    "    df = pd.read_csv(z.open(datestring+'-citibike-tripdata.csv'))\n",
    "    return df"
   ]
  },
  {
   "cell_type": "markdown",
   "metadata": {},
   "source": [
    "My reference for how to read csv file from a zip file (the code in the cell above)\n",
    "https://stackoverflow.com/questions/9419162/python-download-returned-zip-file-from-url"
   ]
  },
  {
   "cell_type": "markdown",
   "metadata": {},
   "source": [
    "## IDEA:\n",
    "\n",
    "CitiBike subscribers are more likely to use the service for shorter trips than customers. \n",
    "\n",
    "### NULL HYPOTESIS (H0): \n",
    "\n",
    "The ratio of trips longer than average over trips shorter than average for subscribers is the same or greater than the same ratio for customers. \n",
    "\n",
    "$H_0 : \\frac{S_{long}}{S_{short}} \\geq \\frac{C_{long}}{C_{short}}$\n",
    "\n",
    "\n",
    "### ALTERNATIVE HYPOTESIS(HA):\n",
    "The ratio of trips longer than average over trips shorter than average for subscribers is lower than the same ratio for consumers. \n",
    "\n",
    "$H_A : \\frac{S_{long}}{S_{short}} < \\frac{C_{long}}{C_{short}}$\n",
    "\n",
    "I will use a significance level  $\\alpha=0.05$\n",
    "which means I want the probability of getting a result at least as significant as mine to be less then 5%\n",
    "\n",
    "Note: As suggested by ssb602, I include an equation and make the formulation of my null and alternative hypothesis shorter."
   ]
  },
  {
   "cell_type": "code",
   "execution_count": 2,
   "metadata": {},
   "outputs": [
    {
     "data": {
      "text/html": [
       "<div>\n",
       "<style>\n",
       "    .dataframe thead tr:only-child th {\n",
       "        text-align: right;\n",
       "    }\n",
       "\n",
       "    .dataframe thead th {\n",
       "        text-align: left;\n",
       "    }\n",
       "\n",
       "    .dataframe tbody tr th {\n",
       "        vertical-align: top;\n",
       "    }\n",
       "</style>\n",
       "<table border=\"1\" class=\"dataframe\">\n",
       "  <thead>\n",
       "    <tr style=\"text-align: right;\">\n",
       "      <th></th>\n",
       "      <th>tripduration</th>\n",
       "      <th>starttime</th>\n",
       "      <th>stoptime</th>\n",
       "      <th>start station id</th>\n",
       "      <th>start station name</th>\n",
       "      <th>start station latitude</th>\n",
       "      <th>start station longitude</th>\n",
       "      <th>end station id</th>\n",
       "      <th>end station name</th>\n",
       "      <th>end station latitude</th>\n",
       "      <th>end station longitude</th>\n",
       "      <th>bikeid</th>\n",
       "      <th>usertype</th>\n",
       "      <th>birth year</th>\n",
       "      <th>gender</th>\n",
       "    </tr>\n",
       "  </thead>\n",
       "  <tbody>\n",
       "    <tr>\n",
       "      <th>0</th>\n",
       "      <td>1346</td>\n",
       "      <td>1/1/2015 0:01</td>\n",
       "      <td>1/1/2015 0:24</td>\n",
       "      <td>455</td>\n",
       "      <td>1 Ave &amp; E 44 St</td>\n",
       "      <td>40.750020</td>\n",
       "      <td>-73.969053</td>\n",
       "      <td>265</td>\n",
       "      <td>Stanton St &amp; Chrystie St</td>\n",
       "      <td>40.722293</td>\n",
       "      <td>-73.991475</td>\n",
       "      <td>18660</td>\n",
       "      <td>Subscriber</td>\n",
       "      <td>1960.0</td>\n",
       "      <td>2</td>\n",
       "    </tr>\n",
       "    <tr>\n",
       "      <th>1</th>\n",
       "      <td>363</td>\n",
       "      <td>1/1/2015 0:02</td>\n",
       "      <td>1/1/2015 0:08</td>\n",
       "      <td>434</td>\n",
       "      <td>9 Ave &amp; W 18 St</td>\n",
       "      <td>40.743174</td>\n",
       "      <td>-74.003664</td>\n",
       "      <td>482</td>\n",
       "      <td>W 15 St &amp; 7 Ave</td>\n",
       "      <td>40.739355</td>\n",
       "      <td>-73.999318</td>\n",
       "      <td>16085</td>\n",
       "      <td>Subscriber</td>\n",
       "      <td>1963.0</td>\n",
       "      <td>1</td>\n",
       "    </tr>\n",
       "    <tr>\n",
       "      <th>2</th>\n",
       "      <td>346</td>\n",
       "      <td>1/1/2015 0:04</td>\n",
       "      <td>1/1/2015 0:10</td>\n",
       "      <td>491</td>\n",
       "      <td>E 24 St &amp; Park Ave S</td>\n",
       "      <td>40.740964</td>\n",
       "      <td>-73.986022</td>\n",
       "      <td>505</td>\n",
       "      <td>6 Ave &amp; W 33 St</td>\n",
       "      <td>40.749013</td>\n",
       "      <td>-73.988484</td>\n",
       "      <td>20845</td>\n",
       "      <td>Subscriber</td>\n",
       "      <td>1974.0</td>\n",
       "      <td>1</td>\n",
       "    </tr>\n",
       "    <tr>\n",
       "      <th>3</th>\n",
       "      <td>182</td>\n",
       "      <td>1/1/2015 0:04</td>\n",
       "      <td>1/1/2015 0:07</td>\n",
       "      <td>384</td>\n",
       "      <td>Fulton St &amp; Waverly Ave</td>\n",
       "      <td>40.683178</td>\n",
       "      <td>-73.965964</td>\n",
       "      <td>399</td>\n",
       "      <td>Lafayette Ave &amp; St James Pl</td>\n",
       "      <td>40.688515</td>\n",
       "      <td>-73.964763</td>\n",
       "      <td>19610</td>\n",
       "      <td>Subscriber</td>\n",
       "      <td>1969.0</td>\n",
       "      <td>1</td>\n",
       "    </tr>\n",
       "    <tr>\n",
       "      <th>4</th>\n",
       "      <td>969</td>\n",
       "      <td>1/1/2015 0:05</td>\n",
       "      <td>1/1/2015 0:21</td>\n",
       "      <td>474</td>\n",
       "      <td>5 Ave &amp; E 29 St</td>\n",
       "      <td>40.745168</td>\n",
       "      <td>-73.986831</td>\n",
       "      <td>432</td>\n",
       "      <td>E 7 St &amp; Avenue A</td>\n",
       "      <td>40.726218</td>\n",
       "      <td>-73.983799</td>\n",
       "      <td>20197</td>\n",
       "      <td>Subscriber</td>\n",
       "      <td>1977.0</td>\n",
       "      <td>1</td>\n",
       "    </tr>\n",
       "  </tbody>\n",
       "</table>\n",
       "</div>"
      ],
      "text/plain": [
       "   tripduration      starttime       stoptime  start station id  \\\n",
       "0          1346  1/1/2015 0:01  1/1/2015 0:24               455   \n",
       "1           363  1/1/2015 0:02  1/1/2015 0:08               434   \n",
       "2           346  1/1/2015 0:04  1/1/2015 0:10               491   \n",
       "3           182  1/1/2015 0:04  1/1/2015 0:07               384   \n",
       "4           969  1/1/2015 0:05  1/1/2015 0:21               474   \n",
       "\n",
       "        start station name  start station latitude  start station longitude  \\\n",
       "0          1 Ave & E 44 St               40.750020               -73.969053   \n",
       "1          9 Ave & W 18 St               40.743174               -74.003664   \n",
       "2     E 24 St & Park Ave S               40.740964               -73.986022   \n",
       "3  Fulton St & Waverly Ave               40.683178               -73.965964   \n",
       "4          5 Ave & E 29 St               40.745168               -73.986831   \n",
       "\n",
       "   end station id             end station name  end station latitude  \\\n",
       "0             265     Stanton St & Chrystie St             40.722293   \n",
       "1             482              W 15 St & 7 Ave             40.739355   \n",
       "2             505              6 Ave & W 33 St             40.749013   \n",
       "3             399  Lafayette Ave & St James Pl             40.688515   \n",
       "4             432            E 7 St & Avenue A             40.726218   \n",
       "\n",
       "   end station longitude  bikeid    usertype  birth year  gender  \n",
       "0             -73.991475   18660  Subscriber      1960.0       2  \n",
       "1             -73.999318   16085  Subscriber      1963.0       1  \n",
       "2             -73.988484   20845  Subscriber      1974.0       1  \n",
       "3             -73.964763   19610  Subscriber      1969.0       1  \n",
       "4             -73.983799   20197  Subscriber      1977.0       1  "
      ]
     },
     "execution_count": 2,
     "metadata": {},
     "output_type": "execute_result"
    }
   ],
   "source": [
    "df = getData('201501')\n",
    "df.head()"
   ]
  },
  {
   "cell_type": "code",
   "execution_count": 3,
   "metadata": {},
   "outputs": [
    {
     "data": {
      "text/plain": [
       "Index(['tripduration', 'starttime', 'stoptime', 'start station id',\n",
       "       'start station name', 'start station latitude',\n",
       "       'start station longitude', 'end station id', 'end station name',\n",
       "       'end station latitude', 'end station longitude', 'bikeid', 'usertype',\n",
       "       'birth year', 'gender'],\n",
       "      dtype='object')"
      ]
     },
     "execution_count": 3,
     "metadata": {},
     "output_type": "execute_result"
    }
   ],
   "source": [
    "df.columns"
   ]
  },
  {
   "cell_type": "markdown",
   "metadata": {},
   "source": [
    "### Exploration of the Data"
   ]
  },
  {
   "cell_type": "code",
   "execution_count": 4,
   "metadata": {},
   "outputs": [
    {
     "name": "stderr",
     "output_type": "stream",
     "text": [
      "/Users/gokmendedemen/anaconda3/lib/python3.6/site-packages/ipykernel_launcher.py:2: SettingWithCopyWarning: \n",
      "A value is trying to be set on a copy of a slice from a DataFrame.\n",
      "Try using .loc[row_indexer,col_indexer] = value instead\n",
      "\n",
      "See the caveats in the documentation: http://pandas.pydata.org/pandas-docs/stable/indexing.html#indexing-view-versus-copy\n",
      "  \n"
     ]
    }
   ],
   "source": [
    "DF = df[['tripduration','usertype']]\n",
    "DF['tripduration']=(DF['tripduration']/60) #to convert seconds to minutes"
   ]
  },
  {
   "cell_type": "code",
   "execution_count": 5,
   "metadata": {},
   "outputs": [
    {
     "data": {
      "text/plain": [
       "array(['Subscriber', 'Customer'], dtype=object)"
      ]
     },
     "execution_count": 5,
     "metadata": {},
     "output_type": "execute_result"
    }
   ],
   "source": [
    "#checking the unique user types for citibike\n",
    "DF.usertype.unique()"
   ]
  },
  {
   "cell_type": "code",
   "execution_count": 6,
   "metadata": {},
   "outputs": [
    {
     "data": {
      "text/plain": [
       "<matplotlib.text.Text at 0x10ebcde10>"
      ]
     },
     "execution_count": 6,
     "metadata": {},
     "output_type": "execute_result"
    },
    {
     "data": {
      "image/png": "[encoded data removed]",
      "text/plain": [
       "<matplotlib.figure.Figure at 0x1a1526b6d8>"
      ]
     },
     "metadata": {},
     "output_type": "display_data"
    }
   ],
   "source": [
    "pl.figure()\n",
    "subs = DF[DF['usertype']=='Subscriber']\n",
    "cust = DF[DF['usertype']=='Customer']\n",
    "\n",
    "ax = subs.tripduration.plot.kde(label=\"subscribers\")\n",
    "ax = cust.tripduration.plot.kde(label=\"customers\")\n",
    "pl.legend();\n",
    "ax.set(xlim=(-50,200))\n",
    "pl.xlabel(\"Trip duration\")\n",
    "pl.ylabel(\"density\")"
   ]
  },
  {
   "cell_type": "markdown",
   "metadata": {},
   "source": [
    "**Figure 1** Distribution of trip duration for subscribers and costumers. "
   ]
  },
  {
   "cell_type": "code",
   "execution_count": 7,
   "metadata": {},
   "outputs": [
    {
     "data": {
      "text/html": [
       "<div>\n",
       "<style>\n",
       "    .dataframe thead tr:only-child th {\n",
       "        text-align: right;\n",
       "    }\n",
       "\n",
       "    .dataframe thead th {\n",
       "        text-align: left;\n",
       "    }\n",
       "\n",
       "    .dataframe tbody tr th {\n",
       "        vertical-align: top;\n",
       "    }\n",
       "</style>\n",
       "<table border=\"1\" class=\"dataframe\">\n",
       "  <thead>\n",
       "    <tr style=\"text-align: right;\">\n",
       "      <th></th>\n",
       "      <th>tripduration</th>\n",
       "    </tr>\n",
       "  </thead>\n",
       "  <tbody>\n",
       "    <tr>\n",
       "      <th>count</th>\n",
       "      <td>285552.000000</td>\n",
       "    </tr>\n",
       "    <tr>\n",
       "      <th>mean</th>\n",
       "      <td>10.905426</td>\n",
       "    </tr>\n",
       "    <tr>\n",
       "      <th>std</th>\n",
       "      <td>15.012932</td>\n",
       "    </tr>\n",
       "    <tr>\n",
       "      <th>min</th>\n",
       "      <td>1.000000</td>\n",
       "    </tr>\n",
       "    <tr>\n",
       "      <th>25%</th>\n",
       "      <td>5.566667</td>\n",
       "    </tr>\n",
       "    <tr>\n",
       "      <th>50%</th>\n",
       "      <td>8.400000</td>\n",
       "    </tr>\n",
       "    <tr>\n",
       "      <th>75%</th>\n",
       "      <td>12.866667</td>\n",
       "    </tr>\n",
       "    <tr>\n",
       "      <th>max</th>\n",
       "      <td>717.050000</td>\n",
       "    </tr>\n",
       "  </tbody>\n",
       "</table>\n",
       "</div>"
      ],
      "text/plain": [
       "        tripduration\n",
       "count  285552.000000\n",
       "mean       10.905426\n",
       "std        15.012932\n",
       "min         1.000000\n",
       "25%         5.566667\n",
       "50%         8.400000\n",
       "75%        12.866667\n",
       "max       717.050000"
      ]
     },
     "execution_count": 7,
     "metadata": {},
     "output_type": "execute_result"
    }
   ],
   "source": [
    "DF.describe()"
   ]
  },
  {
   "cell_type": "code",
   "execution_count": 8,
   "metadata": {},
   "outputs": [
    {
     "data": {
      "text/html": [
       "<div>\n",
       "<style>\n",
       "    .dataframe thead tr:only-child th {\n",
       "        text-align: right;\n",
       "    }\n",
       "\n",
       "    .dataframe thead th {\n",
       "        text-align: left;\n",
       "    }\n",
       "\n",
       "    .dataframe tbody tr th {\n",
       "        vertical-align: top;\n",
       "    }\n",
       "</style>\n",
       "<table border=\"1\" class=\"dataframe\">\n",
       "  <thead>\n",
       "    <tr>\n",
       "      <th></th>\n",
       "      <th colspan=\"8\" halign=\"left\">tripduration</th>\n",
       "    </tr>\n",
       "    <tr>\n",
       "      <th></th>\n",
       "      <th>count</th>\n",
       "      <th>mean</th>\n",
       "      <th>std</th>\n",
       "      <th>min</th>\n",
       "      <th>25%</th>\n",
       "      <th>50%</th>\n",
       "      <th>75%</th>\n",
       "      <th>max</th>\n",
       "    </tr>\n",
       "    <tr>\n",
       "      <th>usertype</th>\n",
       "      <th></th>\n",
       "      <th></th>\n",
       "      <th></th>\n",
       "      <th></th>\n",
       "      <th></th>\n",
       "      <th></th>\n",
       "      <th></th>\n",
       "      <th></th>\n",
       "    </tr>\n",
       "  </thead>\n",
       "  <tbody>\n",
       "    <tr>\n",
       "      <th>Customer</th>\n",
       "      <td>5628.0</td>\n",
       "      <td>26.487038</td>\n",
       "      <td>35.23803</td>\n",
       "      <td>1.0</td>\n",
       "      <td>11.400000</td>\n",
       "      <td>19.141667</td>\n",
       "      <td>28.620833</td>\n",
       "      <td>677.70</td>\n",
       "    </tr>\n",
       "    <tr>\n",
       "      <th>Subscriber</th>\n",
       "      <td>279924.0</td>\n",
       "      <td>10.592151</td>\n",
       "      <td>14.14140</td>\n",
       "      <td>1.0</td>\n",
       "      <td>5.533333</td>\n",
       "      <td>8.300000</td>\n",
       "      <td>12.616667</td>\n",
       "      <td>717.05</td>\n",
       "    </tr>\n",
       "  </tbody>\n",
       "</table>\n",
       "</div>"
      ],
      "text/plain": [
       "           tripduration                                                  \\\n",
       "                  count       mean       std  min        25%        50%   \n",
       "usertype                                                                  \n",
       "Customer         5628.0  26.487038  35.23803  1.0  11.400000  19.141667   \n",
       "Subscriber     279924.0  10.592151  14.14140  1.0   5.533333   8.300000   \n",
       "\n",
       "                               \n",
       "                  75%     max  \n",
       "usertype                       \n",
       "Customer    28.620833  677.70  \n",
       "Subscriber  12.616667  717.05  "
      ]
     },
     "execution_count": 8,
     "metadata": {},
     "output_type": "execute_result"
    }
   ],
   "source": [
    "DF.groupby('usertype').describe()"
   ]
  },
  {
   "cell_type": "code",
   "execution_count": 9,
   "metadata": {},
   "outputs": [
    {
     "data": {
      "text/plain": [
       "<matplotlib.figure.Figure at 0x1a1526b828>"
      ]
     },
     "metadata": {},
     "output_type": "display_data"
    },
    {
     "data": {
      "image/png": "[encoded data removed]",
      "text/plain": [
       "<matplotlib.figure.Figure at 0x1a1ad4da90>"
      ]
     },
     "metadata": {},
     "output_type": "display_data"
    }
   ],
   "source": [
    "pl.figure(figsize=(20,20))\n",
    "bp = DF.boxplot(by=\"usertype\")\n",
    "bp.set(ylim=(0,80));\n",
    "pl.xlabel(\"User Type\");\n",
    "pl.ylabel(\"Trip duration\");"
   ]
  },
  {
   "cell_type": "markdown",
   "metadata": {},
   "source": [
    "**Figure 2** Boxplot for trip duration, by user type. "
   ]
  },
  {
   "cell_type": "markdown",
   "metadata": {},
   "source": [
    "Since the mean value of trip duration of the users is 10.9 minutes, users whose trip takes above 11 minutes are considered as \n",
    "users with longer trip duration. Here we define a criteria for long and short trips and we create new columns for these in the form of boolean data."
   ]
  },
  {
   "cell_type": "code",
   "execution_count": 10,
   "metadata": {},
   "outputs": [
    {
     "name": "stderr",
     "output_type": "stream",
     "text": [
      "/Users/gokmendedemen/anaconda3/lib/python3.6/site-packages/ipykernel_launcher.py:1: SettingWithCopyWarning: \n",
      "A value is trying to be set on a copy of a slice from a DataFrame.\n",
      "Try using .loc[row_indexer,col_indexer] = value instead\n",
      "\n",
      "See the caveats in the documentation: http://pandas.pydata.org/pandas-docs/stable/indexing.html#indexing-view-versus-copy\n",
      "  \"\"\"Entry point for launching an IPython kernel.\n",
      "/Users/gokmendedemen/anaconda3/lib/python3.6/site-packages/ipykernel_launcher.py:2: SettingWithCopyWarning: \n",
      "A value is trying to be set on a copy of a slice from a DataFrame.\n",
      "Try using .loc[row_indexer,col_indexer] = value instead\n",
      "\n",
      "See the caveats in the documentation: http://pandas.pydata.org/pandas-docs/stable/indexing.html#indexing-view-versus-copy\n",
      "  \n"
     ]
    }
   ],
   "source": [
    "DF['longTrip'] = DF['tripduration']>11\n",
    "DF['shortTrip'] = DF['tripduration']<=11"
   ]
  },
  {
   "cell_type": "code",
   "execution_count": 11,
   "metadata": {},
   "outputs": [
    {
     "data": {
      "text/html": [
       "<div>\n",
       "<style>\n",
       "    .dataframe thead tr:only-child th {\n",
       "        text-align: right;\n",
       "    }\n",
       "\n",
       "    .dataframe thead th {\n",
       "        text-align: left;\n",
       "    }\n",
       "\n",
       "    .dataframe tbody tr th {\n",
       "        vertical-align: top;\n",
       "    }\n",
       "</style>\n",
       "<table border=\"1\" class=\"dataframe\">\n",
       "  <thead>\n",
       "    <tr style=\"text-align: right;\">\n",
       "      <th></th>\n",
       "      <th>tripduration</th>\n",
       "      <th>usertype</th>\n",
       "      <th>longTrip</th>\n",
       "      <th>shortTrip</th>\n",
       "    </tr>\n",
       "  </thead>\n",
       "  <tbody>\n",
       "    <tr>\n",
       "      <th>0</th>\n",
       "      <td>22.433333</td>\n",
       "      <td>Subscriber</td>\n",
       "      <td>True</td>\n",
       "      <td>False</td>\n",
       "    </tr>\n",
       "    <tr>\n",
       "      <th>1</th>\n",
       "      <td>6.050000</td>\n",
       "      <td>Subscriber</td>\n",
       "      <td>False</td>\n",
       "      <td>True</td>\n",
       "    </tr>\n",
       "    <tr>\n",
       "      <th>2</th>\n",
       "      <td>5.766667</td>\n",
       "      <td>Subscriber</td>\n",
       "      <td>False</td>\n",
       "      <td>True</td>\n",
       "    </tr>\n",
       "    <tr>\n",
       "      <th>3</th>\n",
       "      <td>3.033333</td>\n",
       "      <td>Subscriber</td>\n",
       "      <td>False</td>\n",
       "      <td>True</td>\n",
       "    </tr>\n",
       "    <tr>\n",
       "      <th>4</th>\n",
       "      <td>16.150000</td>\n",
       "      <td>Subscriber</td>\n",
       "      <td>True</td>\n",
       "      <td>False</td>\n",
       "    </tr>\n",
       "  </tbody>\n",
       "</table>\n",
       "</div>"
      ],
      "text/plain": [
       "   tripduration    usertype  longTrip  shortTrip\n",
       "0     22.433333  Subscriber      True      False\n",
       "1      6.050000  Subscriber     False       True\n",
       "2      5.766667  Subscriber     False       True\n",
       "3      3.033333  Subscriber     False       True\n",
       "4     16.150000  Subscriber      True      False"
      ]
     },
     "execution_count": 11,
     "metadata": {},
     "output_type": "execute_result"
    }
   ],
   "source": [
    "DF.head()"
   ]
  },
  {
   "cell_type": "code",
   "execution_count": 12,
   "metadata": {},
   "outputs": [
    {
     "data": {
      "text/html": [
       "<div>\n",
       "<style>\n",
       "    .dataframe thead tr:only-child th {\n",
       "        text-align: right;\n",
       "    }\n",
       "\n",
       "    .dataframe thead th {\n",
       "        text-align: left;\n",
       "    }\n",
       "\n",
       "    .dataframe tbody tr th {\n",
       "        vertical-align: top;\n",
       "    }\n",
       "</style>\n",
       "<table border=\"1\" class=\"dataframe\">\n",
       "  <thead>\n",
       "    <tr style=\"text-align: right;\">\n",
       "      <th></th>\n",
       "      <th>tripduration</th>\n",
       "      <th>usertype</th>\n",
       "      <th>longTrip</th>\n",
       "      <th>shortTrip</th>\n",
       "    </tr>\n",
       "  </thead>\n",
       "  <tbody>\n",
       "    <tr>\n",
       "      <th>0</th>\n",
       "      <td>22.433333</td>\n",
       "      <td>Subscriber</td>\n",
       "      <td>True</td>\n",
       "      <td>False</td>\n",
       "    </tr>\n",
       "    <tr>\n",
       "      <th>1</th>\n",
       "      <td>6.050000</td>\n",
       "      <td>Subscriber</td>\n",
       "      <td>False</td>\n",
       "      <td>True</td>\n",
       "    </tr>\n",
       "    <tr>\n",
       "      <th>2</th>\n",
       "      <td>5.766667</td>\n",
       "      <td>Subscriber</td>\n",
       "      <td>False</td>\n",
       "      <td>True</td>\n",
       "    </tr>\n",
       "    <tr>\n",
       "      <th>3</th>\n",
       "      <td>3.033333</td>\n",
       "      <td>Subscriber</td>\n",
       "      <td>False</td>\n",
       "      <td>True</td>\n",
       "    </tr>\n",
       "    <tr>\n",
       "      <th>4</th>\n",
       "      <td>16.150000</td>\n",
       "      <td>Subscriber</td>\n",
       "      <td>True</td>\n",
       "      <td>False</td>\n",
       "    </tr>\n",
       "  </tbody>\n",
       "</table>\n",
       "</div>"
      ],
      "text/plain": [
       "   tripduration    usertype  longTrip  shortTrip\n",
       "0     22.433333  Subscriber      True      False\n",
       "1      6.050000  Subscriber     False       True\n",
       "2      5.766667  Subscriber     False       True\n",
       "3      3.033333  Subscriber     False       True\n",
       "4     16.150000  Subscriber      True      False"
      ]
     },
     "execution_count": 12,
     "metadata": {},
     "output_type": "execute_result"
    }
   ],
   "source": [
    "df_subscribers = DF[DF.usertype=='Subscriber']\n",
    "df_subscribers.head()"
   ]
  },
  {
   "cell_type": "code",
   "execution_count": 13,
   "metadata": {},
   "outputs": [
    {
     "data": {
      "text/html": [
       "<div>\n",
       "<style>\n",
       "    .dataframe thead tr:only-child th {\n",
       "        text-align: right;\n",
       "    }\n",
       "\n",
       "    .dataframe thead th {\n",
       "        text-align: left;\n",
       "    }\n",
       "\n",
       "    .dataframe tbody tr th {\n",
       "        vertical-align: top;\n",
       "    }\n",
       "</style>\n",
       "<table border=\"1\" class=\"dataframe\">\n",
       "  <thead>\n",
       "    <tr style=\"text-align: right;\">\n",
       "      <th></th>\n",
       "      <th>tripduration</th>\n",
       "      <th>usertype</th>\n",
       "      <th>longTrip</th>\n",
       "      <th>shortTrip</th>\n",
       "    </tr>\n",
       "  </thead>\n",
       "  <tbody>\n",
       "    <tr>\n",
       "      <th>24</th>\n",
       "      <td>20.850000</td>\n",
       "      <td>Customer</td>\n",
       "      <td>True</td>\n",
       "      <td>False</td>\n",
       "    </tr>\n",
       "    <tr>\n",
       "      <th>26</th>\n",
       "      <td>8.383333</td>\n",
       "      <td>Customer</td>\n",
       "      <td>False</td>\n",
       "      <td>True</td>\n",
       "    </tr>\n",
       "    <tr>\n",
       "      <th>28</th>\n",
       "      <td>19.583333</td>\n",
       "      <td>Customer</td>\n",
       "      <td>True</td>\n",
       "      <td>False</td>\n",
       "    </tr>\n",
       "    <tr>\n",
       "      <th>34</th>\n",
       "      <td>16.133333</td>\n",
       "      <td>Customer</td>\n",
       "      <td>True</td>\n",
       "      <td>False</td>\n",
       "    </tr>\n",
       "    <tr>\n",
       "      <th>38</th>\n",
       "      <td>14.383333</td>\n",
       "      <td>Customer</td>\n",
       "      <td>True</td>\n",
       "      <td>False</td>\n",
       "    </tr>\n",
       "  </tbody>\n",
       "</table>\n",
       "</div>"
      ],
      "text/plain": [
       "    tripduration  usertype  longTrip  shortTrip\n",
       "24     20.850000  Customer      True      False\n",
       "26      8.383333  Customer     False       True\n",
       "28     19.583333  Customer      True      False\n",
       "34     16.133333  Customer      True      False\n",
       "38     14.383333  Customer      True      False"
      ]
     },
     "execution_count": 13,
     "metadata": {},
     "output_type": "execute_result"
    }
   ],
   "source": [
    "df_customers = DF[DF.usertype=='Customer']\n",
    "df_customers.head()"
   ]
  },
  {
   "cell_type": "markdown",
   "metadata": {},
   "source": [
    "### Taking the advice from sac820: \" I would have plotted separate bars for subscribers and customers with shorter and longer overlayed on each bar, rather than having two separate bars for trip type with user type overlaid. \""
   ]
  },
  {
   "cell_type": "code",
   "execution_count": 14,
   "metadata": {},
   "outputs": [
    {
     "data": {
      "image/png": "[encoded data removed]",
      "text/plain": [
       "<matplotlib.figure.Figure at 0x1a1a1745c0>"
      ]
     },
     "metadata": {},
     "output_type": "display_data"
    }
   ],
   "source": [
    "pl.figure(figsize=(15,10))\n",
    "\n",
    "\n",
    "df_long = DF[DF.longTrip == True]\n",
    "counts_longtrip = df_long.tripduration.groupby([DF.usertype]).count()\n",
    "norm_longtrip = len(df_long)\n",
    "\n",
    "error_longtrip = np.sqrt(counts_longtrip)\n",
    "\n",
    "((counts_longtrip) / norm_longtrip).plot(kind=\"bar\", color='IndianRed',\n",
    "                                        yerr=[((error_longtrip)/ norm_longtrip, (error_longtrip) / norm_longtrip)],\n",
    "                                               label = 'SteelBlue') \n",
    "\n",
    "\n",
    "\n",
    "df_short = DF[DF.longTrip == False]\n",
    "counts_shorttrip = df_short.tripduration.groupby([DF.usertype]).count()\n",
    "norm_shorttrip = len(df_short)\n",
    "error_shorttrip = np.sqrt(counts_shorttrip)\n",
    "\n",
    "ax = ((counts_shorttrip) / norm_shorttrip).plot(kind=\"bar\", alpha=0.5, label='Customers', yerr=[((error_shorttrip) / norm_shorttrip, (error_shorttrip) / norm_shorttrip)],\n",
    "                                              color='SteelBlue')\n",
    "\n",
    "\n",
    "pl.yticks(fontsize=30)\n",
    "\n",
    "ax.xaxis.set_ticklabels(['Customers','Subscribers'], fontsize=25)\n",
    "\n",
    "\n",
    "ax.set_ylabel (\"Number of rides\", fontsize=25)\n",
    "ax.set_xlabel (\"User Type\", fontsize=25)\n",
    "pl.legend(['Long Trips','Short trips'],fontsize=25)\n",
    "pl.show()\n"
   ]
  },
  {
   "cell_type": "markdown",
   "metadata": {},
   "source": [
    "**Figure 3**:Distribution of Normalized Citibike bikers by trip duration in January 2015, absolute counts, with statistical errors\n",
    "\n",
    "We see that while subscribers take more shorter trips, consumers take more longer trips."
   ]
  },
  {
   "cell_type": "code",
   "execution_count": 15,
   "metadata": {},
   "outputs": [
    {
     "data": {
      "image/png": "[encoded data removed]",
      "text/plain": [
       "<matplotlib.figure.Figure at 0x1a1a1745f8>"
      ]
     },
     "metadata": {},
     "output_type": "display_data"
    }
   ],
   "source": [
    "pl.figure(figsize=(15,10))\n",
    "\n",
    "#What is the count of subscribers for long and short trips. Let us calculate it\n",
    "counts_subscribers = df_subscribers.tripduration.groupby([df_subscribers.longTrip]).count()\n",
    "norm_subscribers = 1\n",
    "error_subscribers = np.sqrt(counts_subscribers)\n",
    "\n",
    "((counts_subscribers) / norm_subscribers).plot(kind=\"bar\",color='IndianRed', \n",
    "                                               yerr=[((error_subscribers)/ norm_subscribers, (error_subscribers) / norm_subscribers)],\n",
    "                                               label = 'SteelBlue') \n",
    "                                               \n",
    "\n",
    "\n",
    "# What is the count of customers for long and short trips. Let us calculate it.\n",
    "counts_customers = df_customers.tripduration.groupby([df_customers.longTrip]).count()\n",
    "norm_customers = 1\n",
    "error_customers = np.sqrt(counts_customers)\n",
    "ax = ((counts_customers) / norm_customers).plot(kind=\"bar\", alpha=0.5, label='Customers', yerr=[((error_customers) / norm_customers, (error_customers) / norm_customers)],\n",
    "                                              color='SteelBlue')\n",
    "\n",
    "\n",
    "pl.yticks(fontsize=30)\n",
    "ax.xaxis.set_ticklabels(['shorter','longer'], fontsize=25)\n",
    "\n",
    "\n",
    "ax.set_ylabel (\"Number of rides\", fontsize=25)\n",
    "ax.set_xlabel (\"Duration of the trip\", fontsize=25)\n",
    "pl.legend(['Subscribers','Customers'],fontsize=25)\n",
    "pl.show()"
   ]
  },
  {
   "cell_type": "markdown",
   "metadata": {},
   "source": [
    "**Figure 4**:Distribution of Citibike bikers by user type in January 2015, absolute counts, with statistical errors¶"
   ]
  },
  {
   "cell_type": "code",
   "execution_count": 16,
   "metadata": {},
   "outputs": [
    {
     "data": {
      "text/plain": [
       "<matplotlib.legend.Legend at 0x1a172324e0>"
      ]
     },
     "execution_count": 16,
     "metadata": {},
     "output_type": "execute_result"
    },
    {
     "data": {
      "image/png": "[encoded data removed]",
      "text/plain": [
       "<matplotlib.figure.Figure at 0x1a170c8940>"
      ]
     },
     "metadata": {},
     "output_type": "display_data"
    }
   ],
   "source": [
    "pl.figure(figsize=(15,10))\n",
    "\n",
    "\n",
    "#What is the count of subscribers for long and short trips. Let us calculate it\n",
    "counts_subscribers = df_subscribers.tripduration.groupby([df_subscribers.longTrip]).count()\n",
    "norm_subscribers = counts_subscribers.sum()\n",
    "error_subscribers = np.sqrt(counts_subscribers)\n",
    "\n",
    "((counts_subscribers) / norm_subscribers).plot(kind=\"bar\",color='IndianRed', \n",
    "                                               yerr=[((error_subscribers)/ norm_subscribers, (error_subscribers) / norm_subscribers)],\n",
    "                                               label = 'SteelBlue') \n",
    "                                               \n",
    "\n",
    "\n",
    "# What is the count of customers for long and short trips. Let us calculate it.\n",
    "counts_customers = df_customers.tripduration.groupby([df_customers.longTrip]).count()\n",
    "norm_customers = counts_customers.sum()\n",
    "error_customers = np.sqrt(counts_customers)\n",
    "ax = ((counts_customers) / norm_customers).plot(kind=\"bar\", alpha=0.5, label='Customers', yerr=[((error_customers) / norm_customers, (error_customers) / norm_customers)],\n",
    "                                              color='SteelBlue')\n",
    "\n",
    "\n",
    "pl.yticks(fontsize=30)\n",
    "ax.xaxis.set_ticklabels(['shorter','longer'], fontsize=25)\n",
    "\n",
    "\n",
    "ax.set_ylabel (\"Number of rides\", fontsize=25)\n",
    "ax.set_xlabel (\"Duration of the trip\", fontsize=25)\n",
    "pl.legend(['Subscribers','Customers'],fontsize=25)"
   ]
  },
  {
   "cell_type": "markdown",
   "metadata": {},
   "source": [
    "**Figure 4**: Distribution of Citibike bikers by user type in January 2015, normalized. We see that while subscribers take more shorter trips, customers take more longer trips. "
   ]
  },
  {
   "cell_type": "markdown",
   "metadata": {},
   "source": [
    "## Testing if the two proportions are equal"
   ]
  },
  {
   "cell_type": "code",
   "execution_count": 17,
   "metadata": {
    "collapsed": true
   },
   "outputs": [],
   "source": [
    "longer_customers = counts_customers[1]/ norm_customers\n",
    "#the fraction of customers taking longer trip duration \n",
    "shorter_customers = counts_customers[0]/norm_customers #fraction of customers taking shorter trip duration\n",
    "longer_subscribers = counts_subscribers[1]/ norm_subscribers#the fraction of customers taking longer trip duration \n",
    "shorter_subscribers = counts_subscribers[0]/norm_subscribers #fraction of customers taking shorter trip duration"
   ]
  },
  {
   "cell_type": "code",
   "execution_count": 18,
   "metadata": {},
   "outputs": [
    {
     "name": "stdout",
     "output_type": "stream",
     "text": [
      "difference between subscribers and customers on shorter trips:  -2.78449122306\n",
      "We must check the significance before we reject the Null Hypothesis\n"
     ]
    }
   ],
   "source": [
    "P0mP1 = (longer_subscribers/shorter_subscribers - longer_customers/shorter_customers)\n",
    "print (\"difference between subscribers and customers on shorter trips: \", P0mP1)\n",
    "if P0mP1 >= 0:\n",
    "    # we are done...\n",
    "    print(\"In accordance with Null Hypothesis\")\n",
    "else:\n",
    "    # morework to do\n",
    "    print (\"We must check the significance before we reject the Null Hypothesis\")\n"
   ]
  },
  {
   "cell_type": "code",
   "execution_count": 19,
   "metadata": {
    "collapsed": true
   },
   "outputs": [],
   "source": [
    "my_p0 = longer_subscribers/shorter_subscribers  \n",
    "my_p1 = longer_customers/shorter_customers\n",
    "\n",
    "#Is this difference statistically significant?"
   ]
  },
  {
   "cell_type": "code",
   "execution_count": 20,
   "metadata": {},
   "outputs": [
    {
     "name": "stdout",
     "output_type": "stream",
     "text": [
      "The z statistics is -414.43\n"
     ]
    }
   ],
   "source": [
    "p = lambda p0, p1, n0, n1: (p0 * n0 + p1 * n1) / (n0 + n1)\n",
    "se = lambda p, n0, n1: np.sqrt(p * (1 - p) * (1.0 / n0 + 1.0 / n1)) #standard error\n",
    "zscore = lambda p0, p1, s : (p0 - p1) / s\n",
    "\n",
    "# calculations\n",
    "\n",
    "my_p = p(my_p0,my_p1,norm_subscribers,norm_customers)\n",
    "my_se = se(my_p,norm_subscribers,norm_customers)\n",
    "z = zscore(my_p0, my_p1,my_se)\n",
    "print (\"The z statistics is %.2f\"%z)\n"
   ]
  },
  {
   "cell_type": "markdown",
   "metadata": {},
   "source": [
    "The largest number reported in z stats tables is (typically) 3, which gives a p value p<0.0002, which is smaller then my chosen  $\\alpha = 0.05$ - so yes, it is statistically significant (by a lot!)"
   ]
  },
  {
   "cell_type": "markdown",
   "metadata": {},
   "source": [
    "__Interpretation__ : \n",
    "\n",
    "We reject the null hypothesis, and conclude that the ratio of longer/shorter trips is smaller for subscribers than for customers. \n",
    "Therefore, from this analysis it appears that subscribers are more likely to use Citi-Bike for shorter trips compared to customers. "
   ]
  },
  {
   "cell_type": "markdown",
   "metadata": {},
   "source": [
    "*Note* : ssb602 suggest to use a Z test, and this is appropriate given that we are testing two sample proportions to see if they come from the same population."
   ]
  },
  {
   "cell_type": "markdown",
   "metadata": {},
   "source": [
    "Note: sac820 suggests that two tailed test should be used. Even if two tailed test was used the null hypothesis will be rejected, since our z value is far greater than the largest value in the z stats table (which is typically 3)"
   ]
  },
  {
   "cell_type": "code",
   "execution_count": null,
   "metadata": {
    "collapsed": true
   },
   "outputs": [],
   "source": []
  }
 ],
 "metadata": {
  "kernelspec": {
   "display_name": "Python 3",
   "language": "python",
   "name": "python3"
  },
  "language_info": {
   "codemirror_mode": {
    "name": "ipython",
    "version": 3
   },
   "file_extension": ".py",
   "mimetype": "text/x-python",
   "name": "python",
   "nbconvert_exporter": "python",
   "pygments_lexer": "ipython3",
   "version": "3.6.1"
  }
 },
 "nbformat": 4,
 "nbformat_minor": 1
}
