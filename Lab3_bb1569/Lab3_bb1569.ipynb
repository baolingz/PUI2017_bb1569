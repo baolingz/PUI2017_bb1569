{
 "cells": [
  {
   "cell_type": "code",
   "execution_count": 1,
   "metadata": {},
   "outputs": [
    {
     "name": "stdout",
     "output_type": "stream",
     "text": [
      "Populating the interactive namespace from numpy and matplotlib\n"
     ]
    }
   ],
   "source": [
    "import numpy as np\n",
    "#lesson on importing properly to preserve the package space (or something like that).\n",
    "import pylab as pl\n",
    "import pandas as pd\n",
    "%pylab inline"
   ]
  },
  {
   "cell_type": "code",
   "execution_count": 17,
   "metadata": {
    "collapsed": true
   },
   "outputs": [],
   "source": [
    "rand_numbers=np.random.normal(loc=10,scale=2,size=1000)\n",
    "rand_numbers_2=np.random.normal(loc=np.random.normal(5,1),scale=5,size=1000)"
   ]
  },
  {
   "cell_type": "code",
   "execution_count": 21,
   "metadata": {},
   "outputs": [
    {
     "data": {
      "image/png": "[encoded data removed]",
      "text/plain": [
       "<matplotlib.figure.Figure at 0x1146916d8>"
      ]
     },
     "metadata": {},
     "output_type": "display_data"
    }
   ],
   "source": [
    "plt.hist(rand_numbers);\n",
    "plt.hist(rand_numbers_2, alpha=0.5);"
   ]
  },
  {
   "cell_type": "code",
   "execution_count": 27,
   "metadata": {
    "collapsed": true
   },
   "outputs": [],
   "source": [
    "rand_binom=np.random.binomial(n=10,p=0.5,size=1000)"
   ]
  },
  {
   "cell_type": "code",
   "execution_count": 28,
   "metadata": {},
   "outputs": [
    {
     "data": {
      "text/plain": [
       "(array([   1.,   14.,   46.,  123.,  198.,  249.,  196.,  119.,   41.,   13.]),\n",
       " array([  0.,   1.,   2.,   3.,   4.,   5.,   6.,   7.,   8.,   9.,  10.]),\n",
       " <a list of 10 Patch objects>)"
      ]
     },
     "execution_count": 28,
     "metadata": {},
     "output_type": "execute_result"
    },
    {
     "data": {
      "image/png": "[encoded data removed]",
      "text/plain": [
       "<matplotlib.figure.Figure at 0x11460e978>"
      ]
     },
     "metadata": {},
     "output_type": "display_data"
    }
   ],
   "source": [
    "plt.hist(rand_binom)"
   ]
  },
  {
   "cell_type": "code",
   "execution_count": 31,
   "metadata": {},
   "outputs": [
    {
     "data": {
      "text/plain": [
       "4.9669999999999996"
      ]
     },
     "execution_count": 31,
     "metadata": {},
     "output_type": "execute_result"
    }
   ],
   "source": [
    "np.mean(rand_binom)  #or random_binomial.mean() with the package attribute of the object"
   ]
  },
  {
   "cell_type": "code",
   "execution_count": 37,
   "metadata": {},
   "outputs": [
    {
     "data": {
      "text/plain": [
       "(array([  51.,  141.,  231.,  236.,  170.,   98.,   44.,   21.,    6.,    2.]),\n",
       " array([  0.,   1.,   2.,   3.,   4.,   5.,   6.,   7.,   8.,   9.,  10.]),\n",
       " <a list of 10 Patch objects>)"
      ]
     },
     "execution_count": 37,
     "metadata": {},
     "output_type": "execute_result"
    },
    {
     "data": {
      "image/png": "[encoded data removed]",
      "text/plain": [
       "<matplotlib.figure.Figure at 0x114c43a90>"
      ]
     },
     "metadata": {},
     "output_type": "display_data"
    }
   ],
   "source": [
    "plt.hist(np.random.poisson(3,1000))"
   ]
  },
  {
   "cell_type": "code",
   "execution_count": 33,
   "metadata": {},
   "outputs": [],
   "source": [
    "url=\"https://raw.githubusercontent.com/fedhere/PUI2017_fb55/master/Lab3_fb55/times.txt\"\n",
    "times=pd.read_csv(url,header=None).values.squeeze()"
   ]
  },
  {
   "cell_type": "code",
   "execution_count": 34,
   "metadata": {},
   "outputs": [
    {
     "data": {
      "text/plain": [
       "array([ 31.62223931,  32.82137636,  30.2291014 ,  31.41376587,\n",
       "        39.01055035,  34.82207891,  39.87188366,  39.57994562,\n",
       "        31.02658678,  27.66246068,  18.8752884 ,  46.2313731 ,\n",
       "        30.01522604,  47.6004104 ,  16.52726666,  42.4462331 ,\n",
       "        33.62527449,  42.28462558,  46.20520667,  30.87517392,\n",
       "        32.94800341,  26.17691512,  31.25699649,  35.33644554,\n",
       "        35.64072501,  40.32297174,  38.04348588,  29.4579793 ,\n",
       "        23.91636367,  34.56403521,  45.42782464,  38.95607754,\n",
       "        39.11396748,  39.67398759,  31.89148105,  22.62379325,\n",
       "        26.18910408,  43.54114213,  33.2607386 ,  31.67602384,\n",
       "        37.12846259,  38.22048496,  34.38814185,  36.11407371,\n",
       "        44.08064814,  29.59917161,  37.02411751,  41.60576556,\n",
       "        44.37860528,  38.06471077,  22.90526456,  40.27182857,\n",
       "        31.57979239,  25.88037795,  28.8913048 ,  44.33687925,\n",
       "        36.78948684,  43.46098875,  40.65557   ,  26.16634004,\n",
       "        25.13884784,  33.01581456,  32.87050073,  26.28557154,\n",
       "        39.44933037,  36.25528612,  40.719133  ,  40.57181545,\n",
       "        19.87166413,  43.21925286,  31.48102823,  37.14915056,\n",
       "        38.991504  ,  20.53059384,  27.80447692,  38.69933298,\n",
       "        30.0223142 ,  38.64884169,  26.40668884,  32.10224978,\n",
       "        28.31532754,  43.26195884,  40.3609407 ,  37.3025258 ,\n",
       "        31.45110181,  38.79599524,  36.92553372,  32.37167945,\n",
       "        23.25835631,  26.42613261,  48.74987653,  31.42512354,\n",
       "        46.80679298,  30.59748648,  20.7926322 ,  26.19785226,\n",
       "        42.7274097 ,  33.7314695 ,  37.23859057,  36.33984141])"
      ]
     },
     "execution_count": 34,
     "metadata": {},
     "output_type": "execute_result"
    }
   ],
   "source": [
    "times"
   ]
  },
  {
   "cell_type": "code",
   "execution_count": 36,
   "metadata": {},
   "outputs": [
    {
     "data": {
      "text/plain": [
       "34.466161688299998"
      ]
     },
     "execution_count": 36,
     "metadata": {},
     "output_type": "execute_result"
    }
   ],
   "source": [
    "times.mean()"
   ]
  },
  {
   "cell_type": "code",
   "execution_count": 37,
   "metadata": {},
   "outputs": [
    {
     "data": {
      "text/plain": [
       "7.1015040681937771"
      ]
     },
     "execution_count": 37,
     "metadata": {},
     "output_type": "execute_result"
    }
   ],
   "source": [
    "np.std(times)"
   ]
  },
  {
   "cell_type": "code",
   "execution_count": 41,
   "metadata": {
    "collapsed": true
   },
   "outputs": [],
   "source": [
    "tOld_mean=36.\n",
    "tOld_stdev=6.0"
   ]
  },
  {
   "cell_type": "code",
   "execution_count": 43,
   "metadata": {
    "collapsed": true
   },
   "outputs": [],
   "source": [
    "Z=(tOld_mean-np.mean(times))/(tOld_stdev/np.sqrt(len(times)))"
   ]
  },
  {
   "cell_type": "code",
   "execution_count": 39,
   "metadata": {},
   "outputs": [
    {
     "data": {
      "text/plain": [
       "2.5563971861666701"
      ]
     },
     "execution_count": 39,
     "metadata": {},
     "output_type": "execute_result"
    }
   ],
   "source": [
    "Z"
   ]
  },
  {
   "cell_type": "code",
   "execution_count": null,
   "metadata": {
    "collapsed": true
   },
   "outputs": [],
   "source": []
  }
 ],
 "metadata": {
  "kernelspec": {
   "display_name": "Python 3",
   "language": "python",
   "name": "python3"
  },
  "language_info": {
   "codemirror_mode": {
    "name": "ipython",
    "version": 3
   },
   "file_extension": ".py",
   "mimetype": "text/x-python",
   "name": "python",
   "nbconvert_exporter": "python",
   "pygments_lexer": "ipython3",
   "version": "3.6.1"
  }
 },
 "nbformat": 4,
 "nbformat_minor": 2
}
